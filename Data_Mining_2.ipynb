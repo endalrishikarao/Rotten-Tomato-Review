{
  "cells": [
    {
      "cell_type": "markdown",
      "source": [
        "Rishika Endal(1002031323)"
      ],
      "metadata": {
        "id": "ZxpTvNx1eWxc"
      },
      "id": "ZxpTvNx1eWxc"
    },
    {
      "cell_type": "markdown",
      "source": [
        "References\n",
        "\n",
        "https://www.analyticsvidhya.com/blog/2021/04/improve-naive-bayes-text-classifier-using-laplace-smoothing/\n",
        "https://pandas.pydata.org/docs/reference/api/pandas.DataFrame.add.html\n",
        "https://docs.scipy.org/doc/scipy/reference/generated/scipy.stats.wilcoxon.html\n",
        "https://karthikvadloori.wixsite.com/home/post/text-classifier-ford-sentence-classification-using-nbc"
      ],
      "metadata": {
        "id": "vUDeL0iPedii"
      },
      "id": "vUDeL0iPedii"
    },
    {
      "cell_type": "code",
      "execution_count": 1,
      "id": "890f3bcb",
      "metadata": {
        "_cell_guid": "b1076dfc-b9ad-4769-8c92-a6c4dae69d19",
        "_uuid": "8f2839f25d086af736a60e9eeb907d3b93b6e0e5",
        "execution": {
          "iopub.execute_input": "2022-04-19T01:28:38.336811Z",
          "iopub.status.busy": "2022-04-19T01:28:38.336118Z",
          "iopub.status.idle": "2022-04-19T01:28:38.357477Z",
          "shell.execute_reply": "2022-04-19T01:28:38.356689Z"
        },
        "papermill": {
          "duration": 0.064181,
          "end_time": "2022-04-19T01:28:38.361456",
          "exception": false,
          "start_time": "2022-04-19T01:28:38.297275",
          "status": "completed"
        },
        "tags": [],
        "id": "890f3bcb"
      },
      "outputs": [],
      "source": [
        "import numpy as np\n",
        "import matplotlib.pyplot as plt\n",
        "import pandas as pd\n",
        "import math"
      ]
    },
    {
      "cell_type": "code",
      "source": [
        "from google.colab import drive\n",
        "drive.mount('/content/gdrive')"
      ],
      "metadata": {
        "colab": {
          "base_uri": "https://localhost:8080/"
        },
        "id": "CbHmHFTfOwXn",
        "outputId": "fbaa6582-85ab-43d7-8628-dc0a0cc5c0b5"
      },
      "id": "CbHmHFTfOwXn",
      "execution_count": 2,
      "outputs": [
        {
          "output_type": "stream",
          "name": "stdout",
          "text": [
            "Mounted at /content/gdrive\n"
          ]
        }
      ]
    },
    {
      "cell_type": "markdown",
      "id": "96472bbf",
      "metadata": {
        "papermill": {
          "duration": 0.03688,
          "end_time": "2022-04-19T01:28:38.436224",
          "exception": false,
          "start_time": "2022-04-19T01:28:38.399344",
          "status": "completed"
        },
        "tags": [],
        "id": "96472bbf"
      },
      "source": [
        "Data Reading, Importing the Dataset"
      ]
    },
    {
      "cell_type": "code",
      "source": [
        "revdata = pd.read_csv('/content/gdrive/MyDrive/rt_reviews.csv', encoding='latin1')\n",
        "\n",
        "#revdata['New_Sentence'] = revdata['New_Sentence'].str.lower()"
      ],
      "metadata": {
        "id": "29jxEpsdBC60"
      },
      "id": "29jxEpsdBC60",
      "execution_count": 5,
      "outputs": []
    },
    {
      "cell_type": "markdown",
      "metadata": {
        "papermill": {
          "duration": 0.03688,
          "end_time": "2022-04-19T01:28:38.436224",
          "exception": false,
          "start_time": "2022-04-19T01:28:38.399344",
          "status": "completed"
        },
        "tags": [],
        "id": "FlCS58MsELAj"
      },
      "source": [
        "Data Cleaning Steps"
      ],
      "id": "FlCS58MsELAj"
    },
    {
      "cell_type": "code",
      "execution_count": 6,
      "id": "013a526b",
      "metadata": {
        "execution": {
          "iopub.execute_input": "2022-04-19T01:28:42.405872Z",
          "iopub.status.busy": "2022-04-19T01:28:42.405405Z",
          "iopub.status.idle": "2022-04-19T01:28:42.563616Z",
          "shell.execute_reply": "2022-04-19T01:28:42.562495Z"
        },
        "papermill": {
          "duration": 0.201903,
          "end_time": "2022-04-19T01:28:42.566183",
          "exception": false,
          "start_time": "2022-04-19T01:28:42.364280",
          "status": "completed"
        },
        "tags": [],
        "colab": {
          "base_uri": "https://localhost:8080/"
        },
        "id": "013a526b",
        "outputId": "0cb50e0f-3b7e-4694-baed-e3028ef6bccb"
      },
      "outputs": [
        {
          "output_type": "execute_result",
          "data": {
            "text/plain": [
              "Freshness    False\n",
              "Review       False\n",
              "dtype: bool"
            ]
          },
          "metadata": {},
          "execution_count": 6
        }
      ],
      "source": [
        "\n",
        "revdata.isnull().any()\n",
        "revdata.dropna(how='any',inplace=True)\n",
        "revdata.isnull().any()"
      ]
    },
    {
      "cell_type": "code",
      "source": [
        "revdata = revdata.replace([\"=\",\":\",\";\",\"\\+\",\"\\?\", \">\", \"<\",\"!\", \"#\", \"@\", \"\\\\\\\\\", \"$\", \",\", \"%\", \"\\*\",\n",
        "                             \"\\?\", \"\\.\", \"\\(\", \"\\)\", \"\\\"\", \"\\]\", \"\\{\", \"\\}\",\"\\[\", \"/br\"], \"\", regex = True)\n",
        "revdata = revdata.replace([\"0\",\"1\",\"2\",\"3\",\"4\",\"5\",\"6\",\"7\",\"8\",\"9\",\"/\",\"' \",\" \"],\" \",regex=True)"
      ],
      "metadata": {
        "id": "CphBUnWvMaFb"
      },
      "id": "CphBUnWvMaFb",
      "execution_count": 7,
      "outputs": []
    },
    {
      "cell_type": "code",
      "source": [
        "revdata.reset_index(inplace=True)\n",
        "revdata.tail(30)"
      ],
      "metadata": {
        "id": "pgzkqmi8NeSP",
        "colab": {
          "base_uri": "https://localhost:8080/",
          "height": 990
        },
        "outputId": "1c17693c-c77c-49d5-9b6e-1ca666b83045"
      },
      "id": "pgzkqmi8NeSP",
      "execution_count": 8,
      "outputs": [
        {
          "output_type": "execute_result",
          "data": {
            "text/plain": [
              "         index Freshness                                             Review\n",
              "479970  479970    rotten   Gordon Gekko is back but he's not as powerful...\n",
              "479971  479971    rotten   Shot like an   s BBC kids show Sugarman's Vin...\n",
              "479972  479972    rotten   Too long too dark too confusing - and it shou...\n",
              "479973  479973    rotten   The plot is a formulaic ditty where the cop u...\n",
              "479974  479974     fresh   Apollo    remains Howard's masterpiece It is ...\n",
              "479975  479975    rotten   It's the role of an artist to not just commen...\n",
              "479976  479976    rotten   If the point of the film is to somehow succee...\n",
              "479977  479977     fresh   It all adds up to a charming celebration of t...\n",
              "479978  479978     fresh   While no entry in the franchise has surpassed...\n",
              "479979  479979    rotten   It leaves a big blank - make that two blanks ...\n",
              "479980  479980     fresh   This is a very postmodern sci-fi with its dow...\n",
              "479981  479981    rotten   The Saw franchise has become a weekend-before...\n",
              "479982  479982    rotten   Even worse than Kangaroo Jack and that's a st...\n",
              "479983  479983     fresh   In the midst of all the ridiculousness of a m...\n",
              "479984  479984     fresh   RPO is a movie with a tsunami of these moment...\n",
              "479985  479985    rotten   It's a mixed bag and it's mostly mixed toward...\n",
              "479986  479986    rotten   The most disappointing aspect of The Women is...\n",
              "479987  479987    rotten   For the most part Hart is more subdued than u...\n",
              "479988  479988    rotten   Reaching for Terrence Malick territory the vo...\n",
              "479989  479989     fresh   The members of the generally excellent ensemb...\n",
              "479990  479990     fresh         Ryan Coogler's sequel follows a Rocky road\n",
              "479991  479991     fresh   Disney brilliantly executed another film in t...\n",
              "479992  479992    rotten   Director John Crowley overestimates the comed...\n",
              "479993  479993    rotten   Here's a sobering thought If every war gets t...\n",
              "479994  479994    rotten   Roland Joffe's deeply ridiculous movie is cau...\n",
              "479995  479995    rotten   Zemeckis seems unable to admit that the motio...\n",
              "479996  479996     fresh   Movies like The Kids Are All Right -- beautif...\n",
              "479997  479997    rotten   Film-savvy audiences soon will catch onto Win...\n",
              "479998  479998     fresh                         An odd yet enjoyable film \n",
              "479999  479999     fresh   No other animation studio even our beloved Pi..."
            ],
            "text/html": [
              "\n",
              "  <div id=\"df-4d136275-e48f-4227-a60f-7e2efdc233d0\">\n",
              "    <div class=\"colab-df-container\">\n",
              "      <div>\n",
              "<style scoped>\n",
              "    .dataframe tbody tr th:only-of-type {\n",
              "        vertical-align: middle;\n",
              "    }\n",
              "\n",
              "    .dataframe tbody tr th {\n",
              "        vertical-align: top;\n",
              "    }\n",
              "\n",
              "    .dataframe thead th {\n",
              "        text-align: right;\n",
              "    }\n",
              "</style>\n",
              "<table border=\"1\" class=\"dataframe\">\n",
              "  <thead>\n",
              "    <tr style=\"text-align: right;\">\n",
              "      <th></th>\n",
              "      <th>index</th>\n",
              "      <th>Freshness</th>\n",
              "      <th>Review</th>\n",
              "    </tr>\n",
              "  </thead>\n",
              "  <tbody>\n",
              "    <tr>\n",
              "      <th>479970</th>\n",
              "      <td>479970</td>\n",
              "      <td>rotten</td>\n",
              "      <td>Gordon Gekko is back but he's not as powerful...</td>\n",
              "    </tr>\n",
              "    <tr>\n",
              "      <th>479971</th>\n",
              "      <td>479971</td>\n",
              "      <td>rotten</td>\n",
              "      <td>Shot like an   s BBC kids show Sugarman's Vin...</td>\n",
              "    </tr>\n",
              "    <tr>\n",
              "      <th>479972</th>\n",
              "      <td>479972</td>\n",
              "      <td>rotten</td>\n",
              "      <td>Too long too dark too confusing - and it shou...</td>\n",
              "    </tr>\n",
              "    <tr>\n",
              "      <th>479973</th>\n",
              "      <td>479973</td>\n",
              "      <td>rotten</td>\n",
              "      <td>The plot is a formulaic ditty where the cop u...</td>\n",
              "    </tr>\n",
              "    <tr>\n",
              "      <th>479974</th>\n",
              "      <td>479974</td>\n",
              "      <td>fresh</td>\n",
              "      <td>Apollo    remains Howard's masterpiece It is ...</td>\n",
              "    </tr>\n",
              "    <tr>\n",
              "      <th>479975</th>\n",
              "      <td>479975</td>\n",
              "      <td>rotten</td>\n",
              "      <td>It's the role of an artist to not just commen...</td>\n",
              "    </tr>\n",
              "    <tr>\n",
              "      <th>479976</th>\n",
              "      <td>479976</td>\n",
              "      <td>rotten</td>\n",
              "      <td>If the point of the film is to somehow succee...</td>\n",
              "    </tr>\n",
              "    <tr>\n",
              "      <th>479977</th>\n",
              "      <td>479977</td>\n",
              "      <td>fresh</td>\n",
              "      <td>It all adds up to a charming celebration of t...</td>\n",
              "    </tr>\n",
              "    <tr>\n",
              "      <th>479978</th>\n",
              "      <td>479978</td>\n",
              "      <td>fresh</td>\n",
              "      <td>While no entry in the franchise has surpassed...</td>\n",
              "    </tr>\n",
              "    <tr>\n",
              "      <th>479979</th>\n",
              "      <td>479979</td>\n",
              "      <td>rotten</td>\n",
              "      <td>It leaves a big blank - make that two blanks ...</td>\n",
              "    </tr>\n",
              "    <tr>\n",
              "      <th>479980</th>\n",
              "      <td>479980</td>\n",
              "      <td>fresh</td>\n",
              "      <td>This is a very postmodern sci-fi with its dow...</td>\n",
              "    </tr>\n",
              "    <tr>\n",
              "      <th>479981</th>\n",
              "      <td>479981</td>\n",
              "      <td>rotten</td>\n",
              "      <td>The Saw franchise has become a weekend-before...</td>\n",
              "    </tr>\n",
              "    <tr>\n",
              "      <th>479982</th>\n",
              "      <td>479982</td>\n",
              "      <td>rotten</td>\n",
              "      <td>Even worse than Kangaroo Jack and that's a st...</td>\n",
              "    </tr>\n",
              "    <tr>\n",
              "      <th>479983</th>\n",
              "      <td>479983</td>\n",
              "      <td>fresh</td>\n",
              "      <td>In the midst of all the ridiculousness of a m...</td>\n",
              "    </tr>\n",
              "    <tr>\n",
              "      <th>479984</th>\n",
              "      <td>479984</td>\n",
              "      <td>fresh</td>\n",
              "      <td>RPO is a movie with a tsunami of these moment...</td>\n",
              "    </tr>\n",
              "    <tr>\n",
              "      <th>479985</th>\n",
              "      <td>479985</td>\n",
              "      <td>rotten</td>\n",
              "      <td>It's a mixed bag and it's mostly mixed toward...</td>\n",
              "    </tr>\n",
              "    <tr>\n",
              "      <th>479986</th>\n",
              "      <td>479986</td>\n",
              "      <td>rotten</td>\n",
              "      <td>The most disappointing aspect of The Women is...</td>\n",
              "    </tr>\n",
              "    <tr>\n",
              "      <th>479987</th>\n",
              "      <td>479987</td>\n",
              "      <td>rotten</td>\n",
              "      <td>For the most part Hart is more subdued than u...</td>\n",
              "    </tr>\n",
              "    <tr>\n",
              "      <th>479988</th>\n",
              "      <td>479988</td>\n",
              "      <td>rotten</td>\n",
              "      <td>Reaching for Terrence Malick territory the vo...</td>\n",
              "    </tr>\n",
              "    <tr>\n",
              "      <th>479989</th>\n",
              "      <td>479989</td>\n",
              "      <td>fresh</td>\n",
              "      <td>The members of the generally excellent ensemb...</td>\n",
              "    </tr>\n",
              "    <tr>\n",
              "      <th>479990</th>\n",
              "      <td>479990</td>\n",
              "      <td>fresh</td>\n",
              "      <td>Ryan Coogler's sequel follows a Rocky road</td>\n",
              "    </tr>\n",
              "    <tr>\n",
              "      <th>479991</th>\n",
              "      <td>479991</td>\n",
              "      <td>fresh</td>\n",
              "      <td>Disney brilliantly executed another film in t...</td>\n",
              "    </tr>\n",
              "    <tr>\n",
              "      <th>479992</th>\n",
              "      <td>479992</td>\n",
              "      <td>rotten</td>\n",
              "      <td>Director John Crowley overestimates the comed...</td>\n",
              "    </tr>\n",
              "    <tr>\n",
              "      <th>479993</th>\n",
              "      <td>479993</td>\n",
              "      <td>rotten</td>\n",
              "      <td>Here's a sobering thought If every war gets t...</td>\n",
              "    </tr>\n",
              "    <tr>\n",
              "      <th>479994</th>\n",
              "      <td>479994</td>\n",
              "      <td>rotten</td>\n",
              "      <td>Roland Joffe's deeply ridiculous movie is cau...</td>\n",
              "    </tr>\n",
              "    <tr>\n",
              "      <th>479995</th>\n",
              "      <td>479995</td>\n",
              "      <td>rotten</td>\n",
              "      <td>Zemeckis seems unable to admit that the motio...</td>\n",
              "    </tr>\n",
              "    <tr>\n",
              "      <th>479996</th>\n",
              "      <td>479996</td>\n",
              "      <td>fresh</td>\n",
              "      <td>Movies like The Kids Are All Right -- beautif...</td>\n",
              "    </tr>\n",
              "    <tr>\n",
              "      <th>479997</th>\n",
              "      <td>479997</td>\n",
              "      <td>rotten</td>\n",
              "      <td>Film-savvy audiences soon will catch onto Win...</td>\n",
              "    </tr>\n",
              "    <tr>\n",
              "      <th>479998</th>\n",
              "      <td>479998</td>\n",
              "      <td>fresh</td>\n",
              "      <td>An odd yet enjoyable film</td>\n",
              "    </tr>\n",
              "    <tr>\n",
              "      <th>479999</th>\n",
              "      <td>479999</td>\n",
              "      <td>fresh</td>\n",
              "      <td>No other animation studio even our beloved Pi...</td>\n",
              "    </tr>\n",
              "  </tbody>\n",
              "</table>\n",
              "</div>\n",
              "      <button class=\"colab-df-convert\" onclick=\"convertToInteractive('df-4d136275-e48f-4227-a60f-7e2efdc233d0')\"\n",
              "              title=\"Convert this dataframe to an interactive table.\"\n",
              "              style=\"display:none;\">\n",
              "        \n",
              "  <svg xmlns=\"http://www.w3.org/2000/svg\" height=\"24px\"viewBox=\"0 0 24 24\"\n",
              "       width=\"24px\">\n",
              "    <path d=\"M0 0h24v24H0V0z\" fill=\"none\"/>\n",
              "    <path d=\"M18.56 5.44l.94 2.06.94-2.06 2.06-.94-2.06-.94-.94-2.06-.94 2.06-2.06.94zm-11 1L8.5 8.5l.94-2.06 2.06-.94-2.06-.94L8.5 2.5l-.94 2.06-2.06.94zm10 10l.94 2.06.94-2.06 2.06-.94-2.06-.94-.94-2.06-.94 2.06-2.06.94z\"/><path d=\"M17.41 7.96l-1.37-1.37c-.4-.4-.92-.59-1.43-.59-.52 0-1.04.2-1.43.59L10.3 9.45l-7.72 7.72c-.78.78-.78 2.05 0 2.83L4 21.41c.39.39.9.59 1.41.59.51 0 1.02-.2 1.41-.59l7.78-7.78 2.81-2.81c.8-.78.8-2.07 0-2.86zM5.41 20L4 18.59l7.72-7.72 1.47 1.35L5.41 20z\"/>\n",
              "  </svg>\n",
              "      </button>\n",
              "      \n",
              "  <style>\n",
              "    .colab-df-container {\n",
              "      display:flex;\n",
              "      flex-wrap:wrap;\n",
              "      gap: 12px;\n",
              "    }\n",
              "\n",
              "    .colab-df-convert {\n",
              "      background-color: #E8F0FE;\n",
              "      border: none;\n",
              "      border-radius: 50%;\n",
              "      cursor: pointer;\n",
              "      display: none;\n",
              "      fill: #1967D2;\n",
              "      height: 32px;\n",
              "      padding: 0 0 0 0;\n",
              "      width: 32px;\n",
              "    }\n",
              "\n",
              "    .colab-df-convert:hover {\n",
              "      background-color: #E2EBFA;\n",
              "      box-shadow: 0px 1px 2px rgba(60, 64, 67, 0.3), 0px 1px 3px 1px rgba(60, 64, 67, 0.15);\n",
              "      fill: #174EA6;\n",
              "    }\n",
              "\n",
              "    [theme=dark] .colab-df-convert {\n",
              "      background-color: #3B4455;\n",
              "      fill: #D2E3FC;\n",
              "    }\n",
              "\n",
              "    [theme=dark] .colab-df-convert:hover {\n",
              "      background-color: #434B5C;\n",
              "      box-shadow: 0px 1px 3px 1px rgba(0, 0, 0, 0.15);\n",
              "      filter: drop-shadow(0px 1px 2px rgba(0, 0, 0, 0.3));\n",
              "      fill: #FFFFFF;\n",
              "    }\n",
              "  </style>\n",
              "\n",
              "      <script>\n",
              "        const buttonEl =\n",
              "          document.querySelector('#df-4d136275-e48f-4227-a60f-7e2efdc233d0 button.colab-df-convert');\n",
              "        buttonEl.style.display =\n",
              "          google.colab.kernel.accessAllowed ? 'block' : 'none';\n",
              "\n",
              "        async function convertToInteractive(key) {\n",
              "          const element = document.querySelector('#df-4d136275-e48f-4227-a60f-7e2efdc233d0');\n",
              "          const dataTable =\n",
              "            await google.colab.kernel.invokeFunction('convertToInteractive',\n",
              "                                                     [key], {});\n",
              "          if (!dataTable) return;\n",
              "\n",
              "          const docLinkHtml = 'Like what you see? Visit the ' +\n",
              "            '<a target=\"_blank\" href=https://colab.research.google.com/notebooks/data_table.ipynb>data table notebook</a>'\n",
              "            + ' to learn more about interactive tables.';\n",
              "          element.innerHTML = '';\n",
              "          dataTable['output_type'] = 'display_data';\n",
              "          await google.colab.output.renderOutput(dataTable, element);\n",
              "          const docLink = document.createElement('div');\n",
              "          docLink.innerHTML = docLinkHtml;\n",
              "          element.appendChild(docLink);\n",
              "        }\n",
              "      </script>\n",
              "    </div>\n",
              "  </div>\n",
              "  "
            ]
          },
          "metadata": {},
          "execution_count": 8
        }
      ]
    },
    {
      "cell_type": "code",
      "source": [
        "revdata.head(10)"
      ],
      "metadata": {
        "colab": {
          "base_uri": "https://localhost:8080/",
          "height": 363
        },
        "id": "ky9Ams43NJ1-",
        "outputId": "b07d5044-d7fb-4f2f-d165-ec25a503829e"
      },
      "id": "ky9Ams43NJ1-",
      "execution_count": 10,
      "outputs": [
        {
          "output_type": "execute_result",
          "data": {
            "text/plain": [
              "   index Freshness                                             Review\n",
              "0      0     fresh   Manakamana doesn't answer any questions yet m...\n",
              "1      1     fresh   Wilfully offensive and powered by a chest-thu...\n",
              "2      2    rotten   It would be difficult to imagine material mor...\n",
              "3      3    rotten   Despite the gusto its star brings to the role...\n",
              "4      4    rotten   If there was a good idea at the core of this ...\n",
              "5      5    rotten   Gleeson goes the Hallmark Channel route damag...\n",
              "6      6     fresh   It was the height of satire in      dark as h...\n",
              "7      7    rotten   Everyone in The Comedian deserves a better mo...\n",
              "8      8    rotten   Actor encourages grumpy Christians to embrace...\n",
              "9      9     fresh             Slight contained but ineffably soulful"
            ],
            "text/html": [
              "\n",
              "  <div id=\"df-14c7de3f-9ef8-49a8-b10f-d7de9ddf289f\">\n",
              "    <div class=\"colab-df-container\">\n",
              "      <div>\n",
              "<style scoped>\n",
              "    .dataframe tbody tr th:only-of-type {\n",
              "        vertical-align: middle;\n",
              "    }\n",
              "\n",
              "    .dataframe tbody tr th {\n",
              "        vertical-align: top;\n",
              "    }\n",
              "\n",
              "    .dataframe thead th {\n",
              "        text-align: right;\n",
              "    }\n",
              "</style>\n",
              "<table border=\"1\" class=\"dataframe\">\n",
              "  <thead>\n",
              "    <tr style=\"text-align: right;\">\n",
              "      <th></th>\n",
              "      <th>index</th>\n",
              "      <th>Freshness</th>\n",
              "      <th>Review</th>\n",
              "    </tr>\n",
              "  </thead>\n",
              "  <tbody>\n",
              "    <tr>\n",
              "      <th>0</th>\n",
              "      <td>0</td>\n",
              "      <td>fresh</td>\n",
              "      <td>Manakamana doesn't answer any questions yet m...</td>\n",
              "    </tr>\n",
              "    <tr>\n",
              "      <th>1</th>\n",
              "      <td>1</td>\n",
              "      <td>fresh</td>\n",
              "      <td>Wilfully offensive and powered by a chest-thu...</td>\n",
              "    </tr>\n",
              "    <tr>\n",
              "      <th>2</th>\n",
              "      <td>2</td>\n",
              "      <td>rotten</td>\n",
              "      <td>It would be difficult to imagine material mor...</td>\n",
              "    </tr>\n",
              "    <tr>\n",
              "      <th>3</th>\n",
              "      <td>3</td>\n",
              "      <td>rotten</td>\n",
              "      <td>Despite the gusto its star brings to the role...</td>\n",
              "    </tr>\n",
              "    <tr>\n",
              "      <th>4</th>\n",
              "      <td>4</td>\n",
              "      <td>rotten</td>\n",
              "      <td>If there was a good idea at the core of this ...</td>\n",
              "    </tr>\n",
              "    <tr>\n",
              "      <th>5</th>\n",
              "      <td>5</td>\n",
              "      <td>rotten</td>\n",
              "      <td>Gleeson goes the Hallmark Channel route damag...</td>\n",
              "    </tr>\n",
              "    <tr>\n",
              "      <th>6</th>\n",
              "      <td>6</td>\n",
              "      <td>fresh</td>\n",
              "      <td>It was the height of satire in      dark as h...</td>\n",
              "    </tr>\n",
              "    <tr>\n",
              "      <th>7</th>\n",
              "      <td>7</td>\n",
              "      <td>rotten</td>\n",
              "      <td>Everyone in The Comedian deserves a better mo...</td>\n",
              "    </tr>\n",
              "    <tr>\n",
              "      <th>8</th>\n",
              "      <td>8</td>\n",
              "      <td>rotten</td>\n",
              "      <td>Actor encourages grumpy Christians to embrace...</td>\n",
              "    </tr>\n",
              "    <tr>\n",
              "      <th>9</th>\n",
              "      <td>9</td>\n",
              "      <td>fresh</td>\n",
              "      <td>Slight contained but ineffably soulful</td>\n",
              "    </tr>\n",
              "  </tbody>\n",
              "</table>\n",
              "</div>\n",
              "      <button class=\"colab-df-convert\" onclick=\"convertToInteractive('df-14c7de3f-9ef8-49a8-b10f-d7de9ddf289f')\"\n",
              "              title=\"Convert this dataframe to an interactive table.\"\n",
              "              style=\"display:none;\">\n",
              "        \n",
              "  <svg xmlns=\"http://www.w3.org/2000/svg\" height=\"24px\"viewBox=\"0 0 24 24\"\n",
              "       width=\"24px\">\n",
              "    <path d=\"M0 0h24v24H0V0z\" fill=\"none\"/>\n",
              "    <path d=\"M18.56 5.44l.94 2.06.94-2.06 2.06-.94-2.06-.94-.94-2.06-.94 2.06-2.06.94zm-11 1L8.5 8.5l.94-2.06 2.06-.94-2.06-.94L8.5 2.5l-.94 2.06-2.06.94zm10 10l.94 2.06.94-2.06 2.06-.94-2.06-.94-.94-2.06-.94 2.06-2.06.94z\"/><path d=\"M17.41 7.96l-1.37-1.37c-.4-.4-.92-.59-1.43-.59-.52 0-1.04.2-1.43.59L10.3 9.45l-7.72 7.72c-.78.78-.78 2.05 0 2.83L4 21.41c.39.39.9.59 1.41.59.51 0 1.02-.2 1.41-.59l7.78-7.78 2.81-2.81c.8-.78.8-2.07 0-2.86zM5.41 20L4 18.59l7.72-7.72 1.47 1.35L5.41 20z\"/>\n",
              "  </svg>\n",
              "      </button>\n",
              "      \n",
              "  <style>\n",
              "    .colab-df-container {\n",
              "      display:flex;\n",
              "      flex-wrap:wrap;\n",
              "      gap: 12px;\n",
              "    }\n",
              "\n",
              "    .colab-df-convert {\n",
              "      background-color: #E8F0FE;\n",
              "      border: none;\n",
              "      border-radius: 50%;\n",
              "      cursor: pointer;\n",
              "      display: none;\n",
              "      fill: #1967D2;\n",
              "      height: 32px;\n",
              "      padding: 0 0 0 0;\n",
              "      width: 32px;\n",
              "    }\n",
              "\n",
              "    .colab-df-convert:hover {\n",
              "      background-color: #E2EBFA;\n",
              "      box-shadow: 0px 1px 2px rgba(60, 64, 67, 0.3), 0px 1px 3px 1px rgba(60, 64, 67, 0.15);\n",
              "      fill: #174EA6;\n",
              "    }\n",
              "\n",
              "    [theme=dark] .colab-df-convert {\n",
              "      background-color: #3B4455;\n",
              "      fill: #D2E3FC;\n",
              "    }\n",
              "\n",
              "    [theme=dark] .colab-df-convert:hover {\n",
              "      background-color: #434B5C;\n",
              "      box-shadow: 0px 1px 3px 1px rgba(0, 0, 0, 0.15);\n",
              "      filter: drop-shadow(0px 1px 2px rgba(0, 0, 0, 0.3));\n",
              "      fill: #FFFFFF;\n",
              "    }\n",
              "  </style>\n",
              "\n",
              "      <script>\n",
              "        const buttonEl =\n",
              "          document.querySelector('#df-14c7de3f-9ef8-49a8-b10f-d7de9ddf289f button.colab-df-convert');\n",
              "        buttonEl.style.display =\n",
              "          google.colab.kernel.accessAllowed ? 'block' : 'none';\n",
              "\n",
              "        async function convertToInteractive(key) {\n",
              "          const element = document.querySelector('#df-14c7de3f-9ef8-49a8-b10f-d7de9ddf289f');\n",
              "          const dataTable =\n",
              "            await google.colab.kernel.invokeFunction('convertToInteractive',\n",
              "                                                     [key], {});\n",
              "          if (!dataTable) return;\n",
              "\n",
              "          const docLinkHtml = 'Like what you see? Visit the ' +\n",
              "            '<a target=\"_blank\" href=https://colab.research.google.com/notebooks/data_table.ipynb>data table notebook</a>'\n",
              "            + ' to learn more about interactive tables.';\n",
              "          element.innerHTML = '';\n",
              "          dataTable['output_type'] = 'display_data';\n",
              "          await google.colab.output.renderOutput(dataTable, element);\n",
              "          const docLink = document.createElement('div');\n",
              "          docLink.innerHTML = docLinkHtml;\n",
              "          element.appendChild(docLink);\n",
              "        }\n",
              "      </script>\n",
              "    </div>\n",
              "  </div>\n",
              "  "
            ]
          },
          "metadata": {},
          "execution_count": 10
        }
      ]
    },
    {
      "cell_type": "markdown",
      "id": "c23cb017",
      "metadata": {
        "papermill": {
          "duration": 0.038529,
          "end_time": "2022-04-19T01:28:52.630659",
          "exception": false,
          "start_time": "2022-04-19T01:28:52.592130",
          "status": "completed"
        },
        "tags": [],
        "id": "c23cb017"
      },
      "source": [
        "## Train,Test,Validation Splitting of the Data\n",
        "####We have utilized sklearn to split the data\n",
        "\n",
        "*   We have choosen the split to be '0.3' with test_data '0.15' and validation '0.15' in order to minimize the variance between the interdependent priors.\n",
        "\n"
      ]
    },
    {
      "cell_type": "code",
      "execution_count": 11,
      "id": "8849b3dc",
      "metadata": {
        "execution": {
          "iopub.execute_input": "2022-04-19T01:28:52.705994Z",
          "iopub.status.busy": "2022-04-19T01:28:52.705700Z",
          "iopub.status.idle": "2022-04-19T01:28:54.392309Z",
          "shell.execute_reply": "2022-04-19T01:28:54.390991Z"
        },
        "papermill": {
          "duration": 1.726231,
          "end_time": "2022-04-19T01:28:54.394952",
          "exception": false,
          "start_time": "2022-04-19T01:28:52.668721",
          "status": "completed"
        },
        "tags": [],
        "id": "8849b3dc"
      },
      "outputs": [],
      "source": [
        "from sklearn.model_selection import train_test_split\n",
        "\n",
        "train_data,test_data =  train_test_split(revdata, test_size=0.3, random_state=1)\n"
      ]
    },
    {
      "cell_type": "code",
      "source": [
        "print(\"Size of Train Data: \", len(train_data.index))\n",
        "print(\"Size of Test Data: \", len(test_data.index))"
      ],
      "metadata": {
        "colab": {
          "base_uri": "https://localhost:8080/"
        },
        "id": "jKTC4RL4HCGJ",
        "outputId": "4466a611-abe4-4c58-ff0a-acf683b28c73"
      },
      "id": "jKTC4RL4HCGJ",
      "execution_count": 12,
      "outputs": [
        {
          "output_type": "stream",
          "name": "stdout",
          "text": [
            "Size of Train Data:  336000\n",
            "Size of Test Data:  144000\n"
          ]
        }
      ]
    },
    {
      "cell_type": "code",
      "execution_count": 13,
      "id": "c4f30625",
      "metadata": {
        "execution": {
          "iopub.execute_input": "2022-04-19T01:28:54.470534Z",
          "iopub.status.busy": "2022-04-19T01:28:54.470263Z",
          "iopub.status.idle": "2022-04-19T01:28:54.519548Z",
          "shell.execute_reply": "2022-04-19T01:28:54.518591Z"
        },
        "papermill": {
          "duration": 0.090116,
          "end_time": "2022-04-19T01:28:54.522872",
          "exception": false,
          "start_time": "2022-04-19T01:28:54.432756",
          "status": "completed"
        },
        "tags": [],
        "colab": {
          "base_uri": "https://localhost:8080/"
        },
        "id": "c4f30625",
        "outputId": "8eda3df1-8f84-48fd-e77f-c07b5638bfbf"
      },
      "outputs": [
        {
          "output_type": "stream",
          "name": "stdout",
          "text": [
            "Size of Test_after_valid Data:  72000\n",
            "Size of Validation Data:  72000\n"
          ]
        }
      ],
      "source": [
        "test_data, valid = train_test_split(test_data, test_size=0.5, random_state=1)\n",
        "\n",
        "\n",
        "print(\"Size of Test_after_valid Data: \", len(test_data.index))\n",
        "print(\"Size of Validation Data: \", len(valid.index))"
      ]
    },
    {
      "cell_type": "markdown",
      "id": "f046bec4",
      "metadata": {
        "papermill": {
          "duration": 0.040919,
          "end_time": "2022-04-19T01:28:54.602471",
          "exception": false,
          "start_time": "2022-04-19T01:28:54.561552",
          "status": "completed"
        },
        "tags": [],
        "id": "f046bec4"
      },
      "source": [
        "### Prior Probability Calculation:\n",
        "\n",
        "\n",
        "\n",
        "\n",
        "\n"
      ]
    },
    {
      "cell_type": "code",
      "execution_count": 14,
      "id": "8a4670ed",
      "metadata": {
        "execution": {
          "iopub.execute_input": "2022-04-19T01:28:54.685764Z",
          "iopub.status.busy": "2022-04-19T01:28:54.684891Z",
          "iopub.status.idle": "2022-04-19T01:28:54.759276Z",
          "shell.execute_reply": "2022-04-19T01:28:54.757933Z"
        },
        "papermill": {
          "duration": 0.116988,
          "end_time": "2022-04-19T01:28:54.762247",
          "exception": false,
          "start_time": "2022-04-19T01:28:54.645259",
          "status": "completed"
        },
        "tags": [],
        "colab": {
          "base_uri": "https://localhost:8080/",
          "height": 81
        },
        "id": "8a4670ed",
        "outputId": "b08b83b9-121d-49f0-fdcf-fe9d2945dea7"
      },
      "outputs": [
        {
          "output_type": "execute_result",
          "data": {
            "text/plain": [
              "              fresh    rotten\n",
              "Freshness  0.500199  0.499801"
            ],
            "text/html": [
              "\n",
              "  <div id=\"df-c37ae8ce-0f7e-4a15-9633-a65b8498340d\">\n",
              "    <div class=\"colab-df-container\">\n",
              "      <div>\n",
              "<style scoped>\n",
              "    .dataframe tbody tr th:only-of-type {\n",
              "        vertical-align: middle;\n",
              "    }\n",
              "\n",
              "    .dataframe tbody tr th {\n",
              "        vertical-align: top;\n",
              "    }\n",
              "\n",
              "    .dataframe thead th {\n",
              "        text-align: right;\n",
              "    }\n",
              "</style>\n",
              "<table border=\"1\" class=\"dataframe\">\n",
              "  <thead>\n",
              "    <tr style=\"text-align: right;\">\n",
              "      <th></th>\n",
              "      <th>fresh</th>\n",
              "      <th>rotten</th>\n",
              "    </tr>\n",
              "  </thead>\n",
              "  <tbody>\n",
              "    <tr>\n",
              "      <th>Freshness</th>\n",
              "      <td>0.500199</td>\n",
              "      <td>0.499801</td>\n",
              "    </tr>\n",
              "  </tbody>\n",
              "</table>\n",
              "</div>\n",
              "      <button class=\"colab-df-convert\" onclick=\"convertToInteractive('df-c37ae8ce-0f7e-4a15-9633-a65b8498340d')\"\n",
              "              title=\"Convert this dataframe to an interactive table.\"\n",
              "              style=\"display:none;\">\n",
              "        \n",
              "  <svg xmlns=\"http://www.w3.org/2000/svg\" height=\"24px\"viewBox=\"0 0 24 24\"\n",
              "       width=\"24px\">\n",
              "    <path d=\"M0 0h24v24H0V0z\" fill=\"none\"/>\n",
              "    <path d=\"M18.56 5.44l.94 2.06.94-2.06 2.06-.94-2.06-.94-.94-2.06-.94 2.06-2.06.94zm-11 1L8.5 8.5l.94-2.06 2.06-.94-2.06-.94L8.5 2.5l-.94 2.06-2.06.94zm10 10l.94 2.06.94-2.06 2.06-.94-2.06-.94-.94-2.06-.94 2.06-2.06.94z\"/><path d=\"M17.41 7.96l-1.37-1.37c-.4-.4-.92-.59-1.43-.59-.52 0-1.04.2-1.43.59L10.3 9.45l-7.72 7.72c-.78.78-.78 2.05 0 2.83L4 21.41c.39.39.9.59 1.41.59.51 0 1.02-.2 1.41-.59l7.78-7.78 2.81-2.81c.8-.78.8-2.07 0-2.86zM5.41 20L4 18.59l7.72-7.72 1.47 1.35L5.41 20z\"/>\n",
              "  </svg>\n",
              "      </button>\n",
              "      \n",
              "  <style>\n",
              "    .colab-df-container {\n",
              "      display:flex;\n",
              "      flex-wrap:wrap;\n",
              "      gap: 12px;\n",
              "    }\n",
              "\n",
              "    .colab-df-convert {\n",
              "      background-color: #E8F0FE;\n",
              "      border: none;\n",
              "      border-radius: 50%;\n",
              "      cursor: pointer;\n",
              "      display: none;\n",
              "      fill: #1967D2;\n",
              "      height: 32px;\n",
              "      padding: 0 0 0 0;\n",
              "      width: 32px;\n",
              "    }\n",
              "\n",
              "    .colab-df-convert:hover {\n",
              "      background-color: #E2EBFA;\n",
              "      box-shadow: 0px 1px 2px rgba(60, 64, 67, 0.3), 0px 1px 3px 1px rgba(60, 64, 67, 0.15);\n",
              "      fill: #174EA6;\n",
              "    }\n",
              "\n",
              "    [theme=dark] .colab-df-convert {\n",
              "      background-color: #3B4455;\n",
              "      fill: #D2E3FC;\n",
              "    }\n",
              "\n",
              "    [theme=dark] .colab-df-convert:hover {\n",
              "      background-color: #434B5C;\n",
              "      box-shadow: 0px 1px 3px 1px rgba(0, 0, 0, 0.15);\n",
              "      filter: drop-shadow(0px 1px 2px rgba(0, 0, 0, 0.3));\n",
              "      fill: #FFFFFF;\n",
              "    }\n",
              "  </style>\n",
              "\n",
              "      <script>\n",
              "        const buttonEl =\n",
              "          document.querySelector('#df-c37ae8ce-0f7e-4a15-9633-a65b8498340d button.colab-df-convert');\n",
              "        buttonEl.style.display =\n",
              "          google.colab.kernel.accessAllowed ? 'block' : 'none';\n",
              "\n",
              "        async function convertToInteractive(key) {\n",
              "          const element = document.querySelector('#df-c37ae8ce-0f7e-4a15-9633-a65b8498340d');\n",
              "          const dataTable =\n",
              "            await google.colab.kernel.invokeFunction('convertToInteractive',\n",
              "                                                     [key], {});\n",
              "          if (!dataTable) return;\n",
              "\n",
              "          const docLinkHtml = 'Like what you see? Visit the ' +\n",
              "            '<a target=\"_blank\" href=https://colab.research.google.com/notebooks/data_table.ipynb>data table notebook</a>'\n",
              "            + ' to learn more about interactive tables.';\n",
              "          element.innerHTML = '';\n",
              "          dataTable['output_type'] = 'display_data';\n",
              "          await google.colab.output.renderOutput(dataTable, element);\n",
              "          const docLink = document.createElement('div');\n",
              "          docLink.innerHTML = docLinkHtml;\n",
              "          element.appendChild(docLink);\n",
              "        }\n",
              "      </script>\n",
              "    </div>\n",
              "  </div>\n",
              "  "
            ]
          },
          "metadata": {},
          "execution_count": 14
        }
      ],
      "source": [
        "ctype_cnt = train_data['Freshness'].value_counts()\n",
        "\n",
        "prior_type = pd.DataFrame(ctype_cnt).transpose()\n",
        "sumctype_cnt = np.sum(ctype_cnt)\n",
        "prior_type = prior_type/sumctype_cnt\n",
        "\n",
        "prior_type"
      ]
    },
    {
      "cell_type": "code",
      "source": [
        "train_data['Freshness'].value_counts()"
      ],
      "metadata": {
        "colab": {
          "base_uri": "https://localhost:8080/"
        },
        "id": "1gw_9r7zzqwV",
        "outputId": "e8e93ce3-5693-4b7d-85f7-045a2c369e35"
      },
      "id": "1gw_9r7zzqwV",
      "execution_count": 15,
      "outputs": [
        {
          "output_type": "execute_result",
          "data": {
            "text/plain": [
              "fresh     168067\n",
              "rotten    167933\n",
              "Name: Freshness, dtype: int64"
            ]
          },
          "metadata": {},
          "execution_count": 15
        }
      ]
    },
    {
      "cell_type": "code",
      "source": [
        "plt.figure(figsize=(10,2))\n",
        "ctype_cnt.plot(kind='bar')\n"
      ],
      "metadata": {
        "colab": {
          "base_uri": "https://localhost:8080/",
          "height": 259
        },
        "id": "ZgFDjPh6DlVX",
        "outputId": "c5395b6e-fe11-4b7b-e177-d9ee51c3b79b"
      },
      "id": "ZgFDjPh6DlVX",
      "execution_count": 16,
      "outputs": [
        {
          "output_type": "execute_result",
          "data": {
            "text/plain": [
              "<Axes: >"
            ]
          },
          "metadata": {},
          "execution_count": 16
        },
        {
          "output_type": "display_data",
          "data": {
            "text/plain": [
              "<Figure size 1000x200 with 1 Axes>"
            ],
            "image/png": "[encoded data removed]"
          },
          "metadata": {}
        }
      ]
    },
    {
      "cell_type": "markdown",
      "id": "d2775b67",
      "metadata": {
        "papermill": {
          "duration": 0.040534,
          "end_time": "2022-04-19T01:28:55.478287",
          "exception": false,
          "start_time": "2022-04-19T01:28:55.437753",
          "status": "completed"
        },
        "tags": [],
        "id": "d2775b67"
      },
      "source": [
        "###  Bag of Words: Building a vocabulary for the NBC"
      ]
    },
    {
      "cell_type": "code",
      "execution_count": null,
      "id": "ce2565c2",
      "metadata": {
        "execution": {
          "iopub.execute_input": "2022-04-19T01:28:55.565134Z",
          "iopub.status.busy": "2022-04-19T01:28:55.564666Z",
          "iopub.status.idle": "2022-04-19T01:28:55.568523Z",
          "shell.execute_reply": "2022-04-19T01:28:55.567798Z"
        },
        "papermill": {
          "duration": 0.049986,
          "end_time": "2022-04-19T01:28:55.570690",
          "exception": false,
          "start_time": "2022-04-19T01:28:55.520704",
          "status": "completed"
        },
        "tags": [],
        "id": "ce2565c2"
      },
      "outputs": [],
      "source": [
        "#We utilize only the words with a minimum occurence of 5 in this case"
      ]
    },
    {
      "cell_type": "code",
      "execution_count": 17,
      "id": "f2dc3d3b",
      "metadata": {
        "execution": {
          "iopub.execute_input": "2022-04-19T01:28:55.661434Z",
          "iopub.status.busy": "2022-04-19T01:28:55.661094Z",
          "iopub.status.idle": "2022-04-19T01:28:55.672675Z",
          "shell.execute_reply": "2022-04-19T01:28:55.671840Z"
        },
        "papermill": {
          "duration": 0.058636,
          "end_time": "2022-04-19T01:28:55.675112",
          "exception": false,
          "start_time": "2022-04-19T01:28:55.616476",
          "status": "completed"
        },
        "tags": [],
        "id": "f2dc3d3b"
      },
      "outputs": [],
      "source": [
        "from collections import Counter as c\n",
        "\n",
        "\n",
        "def wfreq(df,Type = \"all\",voclist=None,minwoccurence=5):\n",
        "  \n",
        "    if Type!=\"all\":\n",
        "        df = df[df[\"Freshness\"]==Type]\n",
        "    if bool(int(Type==\"all\")*int(voclist==None)):\n",
        "        pass\n",
        "    elif None==voclist:\n",
        "        print(\"No vocabularity list is present.\")\n",
        "\n",
        "    voc1=[]\n",
        "\n",
        "    print(\"Started\")\n",
        "    voc1=[s.split() for s in df[\"Review\"]]\n",
        "    voc1 = np.concatenate(voc1).flatten()\n",
        "\n",
        "    print(\"Ended\")\n",
        "    print(\"Words in all the sentences:\",len(voc1) )\n",
        "    \n",
        "    vocdic = c(voc1)\n",
        "\n",
        "    if Type == \"all\":\n",
        "        vocdic = {key:value for key, value in vocdic.items() if vocdic[key] >= 5}\n",
        "    else:\n",
        "        vocdic = {key:value for key, value in vocdic.items() if key in voclist}\n",
        "\n",
        "    voc = list(vocdic.keys())\n",
        "    print(\"Count of words: \",len(voc))\n",
        "    \n",
        "    return vocdic,voc"
      ]
    },
    {
      "cell_type": "code",
      "source": [
        "vocdic,voc=wfreq(train_data)"
      ],
      "metadata": {
        "colab": {
          "base_uri": "https://localhost:8080/"
        },
        "id": "KaWpKLMfOF6F",
        "outputId": "045234b1-e39a-4938-b6b2-ec7501db6266"
      },
      "id": "KaWpKLMfOF6F",
      "execution_count": 18,
      "outputs": [
        {
          "output_type": "stream",
          "name": "stdout",
          "text": [
            "Started\n",
            "Ended\n",
            "Words in all the sentences: 7293549\n",
            "Count of words:  44675\n"
          ]
        }
      ]
    },
    {
      "cell_type": "code",
      "execution_count": 19,
      "id": "9ed3ba76",
      "metadata": {
        "execution": {
          "iopub.execute_input": "2022-04-19T01:29:08.677443Z",
          "iopub.status.busy": "2022-04-19T01:29:08.677142Z",
          "iopub.status.idle": "2022-04-19T01:29:08.693833Z",
          "shell.execute_reply": "2022-04-19T01:29:08.691096Z"
        },
        "papermill": {
          "duration": 0.070276,
          "end_time": "2022-04-19T01:29:08.698017",
          "exception": false,
          "start_time": "2022-04-19T01:29:08.627741",
          "status": "completed"
        },
        "tags": [],
        "id": "9ed3ba76",
        "colab": {
          "base_uri": "https://localhost:8080/"
        },
        "outputId": "b7c6a2ee-e119-4eed-fb3d-c8622c14d002"
      },
      "outputs": [
        {
          "output_type": "stream",
          "name": "stdout",
          "text": [
            "[('Marshall', 185), ('proves', 1583), ('a', 232637), ('movie', 37972), ('can', 11845), ('be', 35684), ('entertaining', 4650), ('AND', 46), ('complicated', 562), ('A', 30447)]\n",
            "['Marshall', 'proves', 'a', 'movie', 'can', 'be', 'entertaining', 'AND', 'complicated', 'A']\n"
          ]
        }
      ],
      "source": [
        "print(list(vocdic.items())[:10])\n",
        "print(voc[:10])"
      ]
    },
    {
      "cell_type": "code",
      "execution_count": 20,
      "id": "c85638e6",
      "metadata": {
        "execution": {
          "iopub.execute_input": "2022-04-19T01:29:08.805349Z",
          "iopub.status.busy": "2022-04-19T01:29:08.805083Z",
          "iopub.status.idle": "2022-04-19T01:29:08.819369Z",
          "shell.execute_reply": "2022-04-19T01:29:08.818343Z"
        },
        "papermill": {
          "duration": 0.07324,
          "end_time": "2022-04-19T01:29:08.821872",
          "exception": false,
          "start_time": "2022-04-19T01:29:08.748632",
          "status": "completed"
        },
        "tags": [],
        "id": "c85638e6",
        "colab": {
          "base_uri": "https://localhost:8080/",
          "height": 363
        },
        "outputId": "0bf97dd4-9d14-4a2f-8d4c-fa139665bad7"
      },
      "outputs": [
        {
          "output_type": "execute_result",
          "data": {
            "text/plain": [
              "     Vocabulary\n",
              "0      Marshall\n",
              "1        proves\n",
              "2             a\n",
              "3         movie\n",
              "4           can\n",
              "5            be\n",
              "6  entertaining\n",
              "7           AND\n",
              "8   complicated\n",
              "9             A"
            ],
            "text/html": [
              "\n",
              "  <div id=\"df-17185bb7-94ca-432a-ae09-420c9d971492\">\n",
              "    <div class=\"colab-df-container\">\n",
              "      <div>\n",
              "<style scoped>\n",
              "    .dataframe tbody tr th:only-of-type {\n",
              "        vertical-align: middle;\n",
              "    }\n",
              "\n",
              "    .dataframe tbody tr th {\n",
              "        vertical-align: top;\n",
              "    }\n",
              "\n",
              "    .dataframe thead th {\n",
              "        text-align: right;\n",
              "    }\n",
              "</style>\n",
              "<table border=\"1\" class=\"dataframe\">\n",
              "  <thead>\n",
              "    <tr style=\"text-align: right;\">\n",
              "      <th></th>\n",
              "      <th>Vocabulary</th>\n",
              "    </tr>\n",
              "  </thead>\n",
              "  <tbody>\n",
              "    <tr>\n",
              "      <th>0</th>\n",
              "      <td>Marshall</td>\n",
              "    </tr>\n",
              "    <tr>\n",
              "      <th>1</th>\n",
              "      <td>proves</td>\n",
              "    </tr>\n",
              "    <tr>\n",
              "      <th>2</th>\n",
              "      <td>a</td>\n",
              "    </tr>\n",
              "    <tr>\n",
              "      <th>3</th>\n",
              "      <td>movie</td>\n",
              "    </tr>\n",
              "    <tr>\n",
              "      <th>4</th>\n",
              "      <td>can</td>\n",
              "    </tr>\n",
              "    <tr>\n",
              "      <th>5</th>\n",
              "      <td>be</td>\n",
              "    </tr>\n",
              "    <tr>\n",
              "      <th>6</th>\n",
              "      <td>entertaining</td>\n",
              "    </tr>\n",
              "    <tr>\n",
              "      <th>7</th>\n",
              "      <td>AND</td>\n",
              "    </tr>\n",
              "    <tr>\n",
              "      <th>8</th>\n",
              "      <td>complicated</td>\n",
              "    </tr>\n",
              "    <tr>\n",
              "      <th>9</th>\n",
              "      <td>A</td>\n",
              "    </tr>\n",
              "  </tbody>\n",
              "</table>\n",
              "</div>\n",
              "      <button class=\"colab-df-convert\" onclick=\"convertToInteractive('df-17185bb7-94ca-432a-ae09-420c9d971492')\"\n",
              "              title=\"Convert this dataframe to an interactive table.\"\n",
              "              style=\"display:none;\">\n",
              "        \n",
              "  <svg xmlns=\"http://www.w3.org/2000/svg\" height=\"24px\"viewBox=\"0 0 24 24\"\n",
              "       width=\"24px\">\n",
              "    <path d=\"M0 0h24v24H0V0z\" fill=\"none\"/>\n",
              "    <path d=\"M18.56 5.44l.94 2.06.94-2.06 2.06-.94-2.06-.94-.94-2.06-.94 2.06-2.06.94zm-11 1L8.5 8.5l.94-2.06 2.06-.94-2.06-.94L8.5 2.5l-.94 2.06-2.06.94zm10 10l.94 2.06.94-2.06 2.06-.94-2.06-.94-.94-2.06-.94 2.06-2.06.94z\"/><path d=\"M17.41 7.96l-1.37-1.37c-.4-.4-.92-.59-1.43-.59-.52 0-1.04.2-1.43.59L10.3 9.45l-7.72 7.72c-.78.78-.78 2.05 0 2.83L4 21.41c.39.39.9.59 1.41.59.51 0 1.02-.2 1.41-.59l7.78-7.78 2.81-2.81c.8-.78.8-2.07 0-2.86zM5.41 20L4 18.59l7.72-7.72 1.47 1.35L5.41 20z\"/>\n",
              "  </svg>\n",
              "      </button>\n",
              "      \n",
              "  <style>\n",
              "    .colab-df-container {\n",
              "      display:flex;\n",
              "      flex-wrap:wrap;\n",
              "      gap: 12px;\n",
              "    }\n",
              "\n",
              "    .colab-df-convert {\n",
              "      background-color: #E8F0FE;\n",
              "      border: none;\n",
              "      border-radius: 50%;\n",
              "      cursor: pointer;\n",
              "      display: none;\n",
              "      fill: #1967D2;\n",
              "      height: 32px;\n",
              "      padding: 0 0 0 0;\n",
              "      width: 32px;\n",
              "    }\n",
              "\n",
              "    .colab-df-convert:hover {\n",
              "      background-color: #E2EBFA;\n",
              "      box-shadow: 0px 1px 2px rgba(60, 64, 67, 0.3), 0px 1px 3px 1px rgba(60, 64, 67, 0.15);\n",
              "      fill: #174EA6;\n",
              "    }\n",
              "\n",
              "    [theme=dark] .colab-df-convert {\n",
              "      background-color: #3B4455;\n",
              "      fill: #D2E3FC;\n",
              "    }\n",
              "\n",
              "    [theme=dark] .colab-df-convert:hover {\n",
              "      background-color: #434B5C;\n",
              "      box-shadow: 0px 1px 3px 1px rgba(0, 0, 0, 0.15);\n",
              "      filter: drop-shadow(0px 1px 2px rgba(0, 0, 0, 0.3));\n",
              "      fill: #FFFFFF;\n",
              "    }\n",
              "  </style>\n",
              "\n",
              "      <script>\n",
              "        const buttonEl =\n",
              "          document.querySelector('#df-17185bb7-94ca-432a-ae09-420c9d971492 button.colab-df-convert');\n",
              "        buttonEl.style.display =\n",
              "          google.colab.kernel.accessAllowed ? 'block' : 'none';\n",
              "\n",
              "        async function convertToInteractive(key) {\n",
              "          const element = document.querySelector('#df-17185bb7-94ca-432a-ae09-420c9d971492');\n",
              "          const dataTable =\n",
              "            await google.colab.kernel.invokeFunction('convertToInteractive',\n",
              "                                                     [key], {});\n",
              "          if (!dataTable) return;\n",
              "\n",
              "          const docLinkHtml = 'Like what you see? Visit the ' +\n",
              "            '<a target=\"_blank\" href=https://colab.research.google.com/notebooks/data_table.ipynb>data table notebook</a>'\n",
              "            + ' to learn more about interactive tables.';\n",
              "          element.innerHTML = '';\n",
              "          dataTable['output_type'] = 'display_data';\n",
              "          await google.colab.output.renderOutput(dataTable, element);\n",
              "          const docLink = document.createElement('div');\n",
              "          docLink.innerHTML = docLinkHtml;\n",
              "          element.appendChild(docLink);\n",
              "        }\n",
              "      </script>\n",
              "    </div>\n",
              "  </div>\n",
              "  "
            ]
          },
          "metadata": {},
          "execution_count": 20
        }
      ],
      "source": [
        "wfreqdf =pd.DataFrame(voc,columns=[\"Vocabulary\"])\n",
        "wfreqdf.head(10)"
      ]
    },
    {
      "cell_type": "markdown",
      "id": "320f561c",
      "metadata": {
        "papermill": {
          "duration": 0.049882,
          "end_time": "2022-04-19T01:29:08.923667",
          "exception": false,
          "start_time": "2022-04-19T01:29:08.873785",
          "status": "completed"
        },
        "tags": [],
        "id": "320f561c"
      },
      "source": [
        "## Building a Word Frequency table for every type of class in the dataset\n",
        "\n",
        "\n",
        "*   We construct it to utilize for the likelihood in the NBC\n",
        "\n",
        "\n"
      ]
    },
    {
      "cell_type": "code",
      "execution_count": 21,
      "id": "2bddb8b9",
      "metadata": {
        "execution": {
          "iopub.execute_input": "2022-04-19T01:29:09.023841Z",
          "iopub.status.busy": "2022-04-19T01:29:09.023532Z",
          "iopub.status.idle": "2022-04-19T01:31:09.971860Z",
          "shell.execute_reply": "2022-04-19T01:31:09.970963Z"
        },
        "papermill": {
          "duration": 121.002406,
          "end_time": "2022-04-19T01:31:09.974331",
          "exception": false,
          "start_time": "2022-04-19T01:29:08.971925",
          "status": "completed"
        },
        "tags": [],
        "id": "2bddb8b9",
        "colab": {
          "base_uri": "https://localhost:8080/"
        },
        "outputId": "ad08b77d-04ab-44f0-d506-eb32938a29ec"
      },
      "outputs": [
        {
          "output_type": "stream",
          "name": "stdout",
          "text": [
            "\n",
            "Type: fresh\n",
            "Started\n",
            "Ended\n",
            "Words in all the sentences: 7293549\n",
            "Count of words:  44675\n",
            "\n",
            "Type: rotten\n",
            "Started\n",
            "Ended\n",
            "Words in all the sentences: 7293549\n",
            "Count of words:  44675\n"
          ]
        }
      ],
      "source": [
        "for Type in ctype_cnt.index:\n",
        "\n",
        "    print(\"\\nType: {}\".format(Type))\n",
        "    vocdic_type,voc_type=wfreq(train_data,voclist = voc)\n",
        "    voctypedf=pd.DataFrame(vocdic_type.items(),columns=[\"Vocabulary\",Type])\n",
        "    wfreqdf=wfreqdf.merge(voctypedf,how=\"left\",on=\"Vocabulary\")"
      ]
    },
    {
      "cell_type": "code",
      "execution_count": 23,
      "id": "af6b0dc9",
      "metadata": {
        "execution": {
          "iopub.execute_input": "2022-04-19T01:31:10.212786Z",
          "iopub.status.busy": "2022-04-19T01:31:10.212484Z",
          "iopub.status.idle": "2022-04-19T01:31:10.247370Z",
          "shell.execute_reply": "2022-04-19T01:31:10.246528Z"
        },
        "papermill": {
          "duration": 0.154653,
          "end_time": "2022-04-19T01:31:10.249403",
          "exception": false,
          "start_time": "2022-04-19T01:31:10.094750",
          "status": "completed"
        },
        "tags": [],
        "id": "af6b0dc9",
        "colab": {
          "base_uri": "https://localhost:8080/",
          "height": 206
        },
        "outputId": "c4c77a1c-e24e-47b3-9eb7-88a98d000f4a"
      },
      "outputs": [
        {
          "output_type": "execute_result",
          "data": {
            "text/plain": [
              "  Vocabulary   fresh  rotten\n",
              "0   Marshall     185     185\n",
              "1     proves    1583    1583\n",
              "2          a  232637  232637\n",
              "3      movie   37972   37972\n",
              "4        can   11845   11845"
            ],
            "text/html": [
              "\n",
              "  <div id=\"df-1807689d-6162-44e4-bb8c-7f1ba20dabb9\">\n",
              "    <div class=\"colab-df-container\">\n",
              "      <div>\n",
              "<style scoped>\n",
              "    .dataframe tbody tr th:only-of-type {\n",
              "        vertical-align: middle;\n",
              "    }\n",
              "\n",
              "    .dataframe tbody tr th {\n",
              "        vertical-align: top;\n",
              "    }\n",
              "\n",
              "    .dataframe thead th {\n",
              "        text-align: right;\n",
              "    }\n",
              "</style>\n",
              "<table border=\"1\" class=\"dataframe\">\n",
              "  <thead>\n",
              "    <tr style=\"text-align: right;\">\n",
              "      <th></th>\n",
              "      <th>Vocabulary</th>\n",
              "      <th>fresh</th>\n",
              "      <th>rotten</th>\n",
              "    </tr>\n",
              "  </thead>\n",
              "  <tbody>\n",
              "    <tr>\n",
              "      <th>0</th>\n",
              "      <td>Marshall</td>\n",
              "      <td>185</td>\n",
              "      <td>185</td>\n",
              "    </tr>\n",
              "    <tr>\n",
              "      <th>1</th>\n",
              "      <td>proves</td>\n",
              "      <td>1583</td>\n",
              "      <td>1583</td>\n",
              "    </tr>\n",
              "    <tr>\n",
              "      <th>2</th>\n",
              "      <td>a</td>\n",
              "      <td>232637</td>\n",
              "      <td>232637</td>\n",
              "    </tr>\n",
              "    <tr>\n",
              "      <th>3</th>\n",
              "      <td>movie</td>\n",
              "      <td>37972</td>\n",
              "      <td>37972</td>\n",
              "    </tr>\n",
              "    <tr>\n",
              "      <th>4</th>\n",
              "      <td>can</td>\n",
              "      <td>11845</td>\n",
              "      <td>11845</td>\n",
              "    </tr>\n",
              "  </tbody>\n",
              "</table>\n",
              "</div>\n",
              "      <button class=\"colab-df-convert\" onclick=\"convertToInteractive('df-1807689d-6162-44e4-bb8c-7f1ba20dabb9')\"\n",
              "              title=\"Convert this dataframe to an interactive table.\"\n",
              "              style=\"display:none;\">\n",
              "        \n",
              "  <svg xmlns=\"http://www.w3.org/2000/svg\" height=\"24px\"viewBox=\"0 0 24 24\"\n",
              "       width=\"24px\">\n",
              "    <path d=\"M0 0h24v24H0V0z\" fill=\"none\"/>\n",
              "    <path d=\"M18.56 5.44l.94 2.06.94-2.06 2.06-.94-2.06-.94-.94-2.06-.94 2.06-2.06.94zm-11 1L8.5 8.5l.94-2.06 2.06-.94-2.06-.94L8.5 2.5l-.94 2.06-2.06.94zm10 10l.94 2.06.94-2.06 2.06-.94-2.06-.94-.94-2.06-.94 2.06-2.06.94z\"/><path d=\"M17.41 7.96l-1.37-1.37c-.4-.4-.92-.59-1.43-.59-.52 0-1.04.2-1.43.59L10.3 9.45l-7.72 7.72c-.78.78-.78 2.05 0 2.83L4 21.41c.39.39.9.59 1.41.59.51 0 1.02-.2 1.41-.59l7.78-7.78 2.81-2.81c.8-.78.8-2.07 0-2.86zM5.41 20L4 18.59l7.72-7.72 1.47 1.35L5.41 20z\"/>\n",
              "  </svg>\n",
              "      </button>\n",
              "      \n",
              "  <style>\n",
              "    .colab-df-container {\n",
              "      display:flex;\n",
              "      flex-wrap:wrap;\n",
              "      gap: 12px;\n",
              "    }\n",
              "\n",
              "    .colab-df-convert {\n",
              "      background-color: #E8F0FE;\n",
              "      border: none;\n",
              "      border-radius: 50%;\n",
              "      cursor: pointer;\n",
              "      display: none;\n",
              "      fill: #1967D2;\n",
              "      height: 32px;\n",
              "      padding: 0 0 0 0;\n",
              "      width: 32px;\n",
              "    }\n",
              "\n",
              "    .colab-df-convert:hover {\n",
              "      background-color: #E2EBFA;\n",
              "      box-shadow: 0px 1px 2px rgba(60, 64, 67, 0.3), 0px 1px 3px 1px rgba(60, 64, 67, 0.15);\n",
              "      fill: #174EA6;\n",
              "    }\n",
              "\n",
              "    [theme=dark] .colab-df-convert {\n",
              "      background-color: #3B4455;\n",
              "      fill: #D2E3FC;\n",
              "    }\n",
              "\n",
              "    [theme=dark] .colab-df-convert:hover {\n",
              "      background-color: #434B5C;\n",
              "      box-shadow: 0px 1px 3px 1px rgba(0, 0, 0, 0.15);\n",
              "      filter: drop-shadow(0px 1px 2px rgba(0, 0, 0, 0.3));\n",
              "      fill: #FFFFFF;\n",
              "    }\n",
              "  </style>\n",
              "\n",
              "      <script>\n",
              "        const buttonEl =\n",
              "          document.querySelector('#df-1807689d-6162-44e4-bb8c-7f1ba20dabb9 button.colab-df-convert');\n",
              "        buttonEl.style.display =\n",
              "          google.colab.kernel.accessAllowed ? 'block' : 'none';\n",
              "\n",
              "        async function convertToInteractive(key) {\n",
              "          const element = document.querySelector('#df-1807689d-6162-44e4-bb8c-7f1ba20dabb9');\n",
              "          const dataTable =\n",
              "            await google.colab.kernel.invokeFunction('convertToInteractive',\n",
              "                                                     [key], {});\n",
              "          if (!dataTable) return;\n",
              "\n",
              "          const docLinkHtml = 'Like what you see? Visit the ' +\n",
              "            '<a target=\"_blank\" href=https://colab.research.google.com/notebooks/data_table.ipynb>data table notebook</a>'\n",
              "            + ' to learn more about interactive tables.';\n",
              "          element.innerHTML = '';\n",
              "          dataTable['output_type'] = 'display_data';\n",
              "          await google.colab.output.renderOutput(dataTable, element);\n",
              "          const docLink = document.createElement('div');\n",
              "          docLink.innerHTML = docLinkHtml;\n",
              "          element.appendChild(docLink);\n",
              "        }\n",
              "      </script>\n",
              "    </div>\n",
              "  </div>\n",
              "  "
            ]
          },
          "metadata": {},
          "execution_count": 23
        }
      ],
      "source": [
        "wfreqdf.head(5)"
      ]
    },
    {
      "cell_type": "code",
      "execution_count": 26,
      "id": "c3805157",
      "metadata": {
        "execution": {
          "iopub.execute_input": "2022-04-19T01:31:10.487860Z",
          "iopub.status.busy": "2022-04-19T01:31:10.487566Z",
          "iopub.status.idle": "2022-04-19T01:31:10.564756Z",
          "shell.execute_reply": "2022-04-19T01:31:10.563865Z"
        },
        "papermill": {
          "duration": 0.200357,
          "end_time": "2022-04-19T01:31:10.566993",
          "exception": false,
          "start_time": "2022-04-19T01:31:10.366636",
          "status": "completed"
        },
        "tags": [],
        "id": "c3805157",
        "colab": {
          "base_uri": "https://localhost:8080/",
          "height": 455
        },
        "outputId": "148627a3-1654-4ab5-b8c8-cdf70e1bbffb"
      },
      "outputs": [
        {
          "output_type": "execute_result",
          "data": {
            "text/plain": [
              "                    fresh        rotten\n",
              "Vocabulary                             \n",
              "Marshall     2.591054e-05  2.591054e-05\n",
              "proves       2.206575e-04  2.206575e-04\n",
              "a            3.240739e-02  3.240739e-02\n",
              "movie        5.289789e-03  5.289789e-03\n",
              "can          1.650195e-03  1.650195e-03\n",
              "...                   ...           ...\n",
              "drought      8.358237e-07  8.358237e-07\n",
              "Mired        8.358237e-07  8.358237e-07\n",
              "tolerating   8.358237e-07  8.358237e-07\n",
              "pondered     8.358237e-07  8.358237e-07\n",
              "Fresnadillo  8.358237e-07  8.358237e-07\n",
              "\n",
              "[44675 rows x 2 columns]"
            ],
            "text/html": [
              "\n",
              "  <div id=\"df-0c0d989b-391a-4f44-8121-eab12c61c8c1\">\n",
              "    <div class=\"colab-df-container\">\n",
              "      <div>\n",
              "<style scoped>\n",
              "    .dataframe tbody tr th:only-of-type {\n",
              "        vertical-align: middle;\n",
              "    }\n",
              "\n",
              "    .dataframe tbody tr th {\n",
              "        vertical-align: top;\n",
              "    }\n",
              "\n",
              "    .dataframe thead th {\n",
              "        text-align: right;\n",
              "    }\n",
              "</style>\n",
              "<table border=\"1\" class=\"dataframe\">\n",
              "  <thead>\n",
              "    <tr style=\"text-align: right;\">\n",
              "      <th></th>\n",
              "      <th>fresh</th>\n",
              "      <th>rotten</th>\n",
              "    </tr>\n",
              "    <tr>\n",
              "      <th>Vocabulary</th>\n",
              "      <th></th>\n",
              "      <th></th>\n",
              "    </tr>\n",
              "  </thead>\n",
              "  <tbody>\n",
              "    <tr>\n",
              "      <th>Marshall</th>\n",
              "      <td>2.591054e-05</td>\n",
              "      <td>2.591054e-05</td>\n",
              "    </tr>\n",
              "    <tr>\n",
              "      <th>proves</th>\n",
              "      <td>2.206575e-04</td>\n",
              "      <td>2.206575e-04</td>\n",
              "    </tr>\n",
              "    <tr>\n",
              "      <th>a</th>\n",
              "      <td>3.240739e-02</td>\n",
              "      <td>3.240739e-02</td>\n",
              "    </tr>\n",
              "    <tr>\n",
              "      <th>movie</th>\n",
              "      <td>5.289789e-03</td>\n",
              "      <td>5.289789e-03</td>\n",
              "    </tr>\n",
              "    <tr>\n",
              "      <th>can</th>\n",
              "      <td>1.650195e-03</td>\n",
              "      <td>1.650195e-03</td>\n",
              "    </tr>\n",
              "    <tr>\n",
              "      <th>...</th>\n",
              "      <td>...</td>\n",
              "      <td>...</td>\n",
              "    </tr>\n",
              "    <tr>\n",
              "      <th>drought</th>\n",
              "      <td>8.358237e-07</td>\n",
              "      <td>8.358237e-07</td>\n",
              "    </tr>\n",
              "    <tr>\n",
              "      <th>Mired</th>\n",
              "      <td>8.358237e-07</td>\n",
              "      <td>8.358237e-07</td>\n",
              "    </tr>\n",
              "    <tr>\n",
              "      <th>tolerating</th>\n",
              "      <td>8.358237e-07</td>\n",
              "      <td>8.358237e-07</td>\n",
              "    </tr>\n",
              "    <tr>\n",
              "      <th>pondered</th>\n",
              "      <td>8.358237e-07</td>\n",
              "      <td>8.358237e-07</td>\n",
              "    </tr>\n",
              "    <tr>\n",
              "      <th>Fresnadillo</th>\n",
              "      <td>8.358237e-07</td>\n",
              "      <td>8.358237e-07</td>\n",
              "    </tr>\n",
              "  </tbody>\n",
              "</table>\n",
              "<p>44675 rows × 2 columns</p>\n",
              "</div>\n",
              "      <button class=\"colab-df-convert\" onclick=\"convertToInteractive('df-0c0d989b-391a-4f44-8121-eab12c61c8c1')\"\n",
              "              title=\"Convert this dataframe to an interactive table.\"\n",
              "              style=\"display:none;\">\n",
              "        \n",
              "  <svg xmlns=\"http://www.w3.org/2000/svg\" height=\"24px\"viewBox=\"0 0 24 24\"\n",
              "       width=\"24px\">\n",
              "    <path d=\"M0 0h24v24H0V0z\" fill=\"none\"/>\n",
              "    <path d=\"M18.56 5.44l.94 2.06.94-2.06 2.06-.94-2.06-.94-.94-2.06-.94 2.06-2.06.94zm-11 1L8.5 8.5l.94-2.06 2.06-.94-2.06-.94L8.5 2.5l-.94 2.06-2.06.94zm10 10l.94 2.06.94-2.06 2.06-.94-2.06-.94-.94-2.06-.94 2.06-2.06.94z\"/><path d=\"M17.41 7.96l-1.37-1.37c-.4-.4-.92-.59-1.43-.59-.52 0-1.04.2-1.43.59L10.3 9.45l-7.72 7.72c-.78.78-.78 2.05 0 2.83L4 21.41c.39.39.9.59 1.41.59.51 0 1.02-.2 1.41-.59l7.78-7.78 2.81-2.81c.8-.78.8-2.07 0-2.86zM5.41 20L4 18.59l7.72-7.72 1.47 1.35L5.41 20z\"/>\n",
              "  </svg>\n",
              "      </button>\n",
              "      \n",
              "  <style>\n",
              "    .colab-df-container {\n",
              "      display:flex;\n",
              "      flex-wrap:wrap;\n",
              "      gap: 12px;\n",
              "    }\n",
              "\n",
              "    .colab-df-convert {\n",
              "      background-color: #E8F0FE;\n",
              "      border: none;\n",
              "      border-radius: 50%;\n",
              "      cursor: pointer;\n",
              "      display: none;\n",
              "      fill: #1967D2;\n",
              "      height: 32px;\n",
              "      padding: 0 0 0 0;\n",
              "      width: 32px;\n",
              "    }\n",
              "\n",
              "    .colab-df-convert:hover {\n",
              "      background-color: #E2EBFA;\n",
              "      box-shadow: 0px 1px 2px rgba(60, 64, 67, 0.3), 0px 1px 3px 1px rgba(60, 64, 67, 0.15);\n",
              "      fill: #174EA6;\n",
              "    }\n",
              "\n",
              "    [theme=dark] .colab-df-convert {\n",
              "      background-color: #3B4455;\n",
              "      fill: #D2E3FC;\n",
              "    }\n",
              "\n",
              "    [theme=dark] .colab-df-convert:hover {\n",
              "      background-color: #434B5C;\n",
              "      box-shadow: 0px 1px 3px 1px rgba(0, 0, 0, 0.15);\n",
              "      filter: drop-shadow(0px 1px 2px rgba(0, 0, 0, 0.3));\n",
              "      fill: #FFFFFF;\n",
              "    }\n",
              "  </style>\n",
              "\n",
              "      <script>\n",
              "        const buttonEl =\n",
              "          document.querySelector('#df-0c0d989b-391a-4f44-8121-eab12c61c8c1 button.colab-df-convert');\n",
              "        buttonEl.style.display =\n",
              "          google.colab.kernel.accessAllowed ? 'block' : 'none';\n",
              "\n",
              "        async function convertToInteractive(key) {\n",
              "          const element = document.querySelector('#df-0c0d989b-391a-4f44-8121-eab12c61c8c1');\n",
              "          const dataTable =\n",
              "            await google.colab.kernel.invokeFunction('convertToInteractive',\n",
              "                                                     [key], {});\n",
              "          if (!dataTable) return;\n",
              "\n",
              "          const docLinkHtml = 'Like what you see? Visit the ' +\n",
              "            '<a target=\"_blank\" href=https://colab.research.google.com/notebooks/data_table.ipynb>data table notebook</a>'\n",
              "            + ' to learn more about interactive tables.';\n",
              "          element.innerHTML = '';\n",
              "          dataTable['output_type'] = 'display_data';\n",
              "          await google.colab.output.renderOutput(dataTable, element);\n",
              "          const docLink = document.createElement('div');\n",
              "          docLink.innerHTML = docLinkHtml;\n",
              "          element.appendChild(docLink);\n",
              "        }\n",
              "      </script>\n",
              "    </div>\n",
              "  </div>\n",
              "  "
            ]
          },
          "metadata": {},
          "execution_count": 26
        }
      ],
      "source": [
        "#Now finding the Likelihood P(Items|Class). That is, calculation of probability of a word given its type.\n",
        "\n",
        "kt=True\n",
        "\n",
        "if kt==False:\n",
        "    likelihoodprob =wfreqdf.set_index(\"Vocabulary\")\n",
        "elif kt==True:\n",
        "    likelihoodprob=wfreqdf.set_index(\"Vocabulary\").fillna(0)+1\n",
        "likelihoodprob = likelihoodprob.div(likelihoodprob.sum(axis=0),axis=1)\n",
        "likelihoodprob"
      ]
    },
    {
      "cell_type": "markdown",
      "source": [],
      "metadata": {
        "id": "i1D4Bz6aeTz2"
      },
      "id": "i1D4Bz6aeTz2"
    },
    {
      "cell_type": "markdown",
      "source": [],
      "metadata": {
        "id": "RgjkMm_PeU4f"
      },
      "id": "RgjkMm_PeU4f"
    },
    {
      "cell_type": "markdown",
      "id": "5914101c",
      "metadata": {
        "papermill": {
          "duration": 0.121647,
          "end_time": "2022-04-19T01:31:10.810171",
          "exception": false,
          "start_time": "2022-04-19T01:31:10.688524",
          "status": "completed"
        },
        "tags": [],
        "id": "5914101c"
      },
      "source": [
        "## LaplacianSmoothing"
      ]
    },
    {
      "cell_type": "code",
      "source": [
        "\n",
        "\n",
        "st_likelihoodprob = (\n",
        "     wfreqdf.set_index(\"Vocabulary\")\n",
        "    .fillna(0) \n",
        "    .add(1)\n",
        "    if st==True\n",
        "    else train_wfreqdf.set_index(\"Vocabulary\")\n",
        ")\n",
        "sm_likelihoodprob"
      ],
      "metadata": {
        "colab": {
          "base_uri": "https://localhost:8080/",
          "height": 455
        },
        "id": "SQm0zsajc6ke",
        "outputId": "df884101-fba8-413b-bf82-2c504f609654"
      },
      "id": "SQm0zsajc6ke",
      "execution_count": 33,
      "outputs": [
        {
          "output_type": "execute_result",
          "data": {
            "text/plain": [
              "              fresh  rotten\n",
              "Vocabulary                 \n",
              "Marshall        186     186\n",
              "proves         1584    1584\n",
              "a            232638  232638\n",
              "movie         37973   37973\n",
              "can           11846   11846\n",
              "...             ...     ...\n",
              "drought           6       6\n",
              "Mired             6       6\n",
              "tolerating        6       6\n",
              "pondered          6       6\n",
              "Fresnadillo       6       6\n",
              "\n",
              "[44675 rows x 2 columns]"
            ],
            "text/html": [
              "\n",
              "  <div id=\"df-72d617b1-302a-44a9-82eb-381db7cf6df3\">\n",
              "    <div class=\"colab-df-container\">\n",
              "      <div>\n",
              "<style scoped>\n",
              "    .dataframe tbody tr th:only-of-type {\n",
              "        vertical-align: middle;\n",
              "    }\n",
              "\n",
              "    .dataframe tbody tr th {\n",
              "        vertical-align: top;\n",
              "    }\n",
              "\n",
              "    .dataframe thead th {\n",
              "        text-align: right;\n",
              "    }\n",
              "</style>\n",
              "<table border=\"1\" class=\"dataframe\">\n",
              "  <thead>\n",
              "    <tr style=\"text-align: right;\">\n",
              "      <th></th>\n",
              "      <th>fresh</th>\n",
              "      <th>rotten</th>\n",
              "    </tr>\n",
              "    <tr>\n",
              "      <th>Vocabulary</th>\n",
              "      <th></th>\n",
              "      <th></th>\n",
              "    </tr>\n",
              "  </thead>\n",
              "  <tbody>\n",
              "    <tr>\n",
              "      <th>Marshall</th>\n",
              "      <td>186</td>\n",
              "      <td>186</td>\n",
              "    </tr>\n",
              "    <tr>\n",
              "      <th>proves</th>\n",
              "      <td>1584</td>\n",
              "      <td>1584</td>\n",
              "    </tr>\n",
              "    <tr>\n",
              "      <th>a</th>\n",
              "      <td>232638</td>\n",
              "      <td>232638</td>\n",
              "    </tr>\n",
              "    <tr>\n",
              "      <th>movie</th>\n",
              "      <td>37973</td>\n",
              "      <td>37973</td>\n",
              "    </tr>\n",
              "    <tr>\n",
              "      <th>can</th>\n",
              "      <td>11846</td>\n",
              "      <td>11846</td>\n",
              "    </tr>\n",
              "    <tr>\n",
              "      <th>...</th>\n",
              "      <td>...</td>\n",
              "      <td>...</td>\n",
              "    </tr>\n",
              "    <tr>\n",
              "      <th>drought</th>\n",
              "      <td>6</td>\n",
              "      <td>6</td>\n",
              "    </tr>\n",
              "    <tr>\n",
              "      <th>Mired</th>\n",
              "      <td>6</td>\n",
              "      <td>6</td>\n",
              "    </tr>\n",
              "    <tr>\n",
              "      <th>tolerating</th>\n",
              "      <td>6</td>\n",
              "      <td>6</td>\n",
              "    </tr>\n",
              "    <tr>\n",
              "      <th>pondered</th>\n",
              "      <td>6</td>\n",
              "      <td>6</td>\n",
              "    </tr>\n",
              "    <tr>\n",
              "      <th>Fresnadillo</th>\n",
              "      <td>6</td>\n",
              "      <td>6</td>\n",
              "    </tr>\n",
              "  </tbody>\n",
              "</table>\n",
              "<p>44675 rows × 2 columns</p>\n",
              "</div>\n",
              "      <button class=\"colab-df-convert\" onclick=\"convertToInteractive('df-72d617b1-302a-44a9-82eb-381db7cf6df3')\"\n",
              "              title=\"Convert this dataframe to an interactive table.\"\n",
              "              style=\"display:none;\">\n",
              "        \n",
              "  <svg xmlns=\"http://www.w3.org/2000/svg\" height=\"24px\"viewBox=\"0 0 24 24\"\n",
              "       width=\"24px\">\n",
              "    <path d=\"M0 0h24v24H0V0z\" fill=\"none\"/>\n",
              "    <path d=\"M18.56 5.44l.94 2.06.94-2.06 2.06-.94-2.06-.94-.94-2.06-.94 2.06-2.06.94zm-11 1L8.5 8.5l.94-2.06 2.06-.94-2.06-.94L8.5 2.5l-.94 2.06-2.06.94zm10 10l.94 2.06.94-2.06 2.06-.94-2.06-.94-.94-2.06-.94 2.06-2.06.94z\"/><path d=\"M17.41 7.96l-1.37-1.37c-.4-.4-.92-.59-1.43-.59-.52 0-1.04.2-1.43.59L10.3 9.45l-7.72 7.72c-.78.78-.78 2.05 0 2.83L4 21.41c.39.39.9.59 1.41.59.51 0 1.02-.2 1.41-.59l7.78-7.78 2.81-2.81c.8-.78.8-2.07 0-2.86zM5.41 20L4 18.59l7.72-7.72 1.47 1.35L5.41 20z\"/>\n",
              "  </svg>\n",
              "      </button>\n",
              "      \n",
              "  <style>\n",
              "    .colab-df-container {\n",
              "      display:flex;\n",
              "      flex-wrap:wrap;\n",
              "      gap: 12px;\n",
              "    }\n",
              "\n",
              "    .colab-df-convert {\n",
              "      background-color: #E8F0FE;\n",
              "      border: none;\n",
              "      border-radius: 50%;\n",
              "      cursor: pointer;\n",
              "      display: none;\n",
              "      fill: #1967D2;\n",
              "      height: 32px;\n",
              "      padding: 0 0 0 0;\n",
              "      width: 32px;\n",
              "    }\n",
              "\n",
              "    .colab-df-convert:hover {\n",
              "      background-color: #E2EBFA;\n",
              "      box-shadow: 0px 1px 2px rgba(60, 64, 67, 0.3), 0px 1px 3px 1px rgba(60, 64, 67, 0.15);\n",
              "      fill: #174EA6;\n",
              "    }\n",
              "\n",
              "    [theme=dark] .colab-df-convert {\n",
              "      background-color: #3B4455;\n",
              "      fill: #D2E3FC;\n",
              "    }\n",
              "\n",
              "    [theme=dark] .colab-df-convert:hover {\n",
              "      background-color: #434B5C;\n",
              "      box-shadow: 0px 1px 3px 1px rgba(0, 0, 0, 0.15);\n",
              "      filter: drop-shadow(0px 1px 2px rgba(0, 0, 0, 0.3));\n",
              "      fill: #FFFFFF;\n",
              "    }\n",
              "  </style>\n",
              "\n",
              "      <script>\n",
              "        const buttonEl =\n",
              "          document.querySelector('#df-72d617b1-302a-44a9-82eb-381db7cf6df3 button.colab-df-convert');\n",
              "        buttonEl.style.display =\n",
              "          google.colab.kernel.accessAllowed ? 'block' : 'none';\n",
              "\n",
              "        async function convertToInteractive(key) {\n",
              "          const element = document.querySelector('#df-72d617b1-302a-44a9-82eb-381db7cf6df3');\n",
              "          const dataTable =\n",
              "            await google.colab.kernel.invokeFunction('convertToInteractive',\n",
              "                                                     [key], {});\n",
              "          if (!dataTable) return;\n",
              "\n",
              "          const docLinkHtml = 'Like what you see? Visit the ' +\n",
              "            '<a target=\"_blank\" href=https://colab.research.google.com/notebooks/data_table.ipynb>data table notebook</a>'\n",
              "            + ' to learn more about interactive tables.';\n",
              "          element.innerHTML = '';\n",
              "          dataTable['output_type'] = 'display_data';\n",
              "          await google.colab.output.renderOutput(dataTable, element);\n",
              "          const docLink = document.createElement('div');\n",
              "          docLink.innerHTML = docLinkHtml;\n",
              "          element.appendChild(docLink);\n",
              "        }\n",
              "      </script>\n",
              "    </div>\n",
              "  </div>\n",
              "  "
            ]
          },
          "metadata": {},
          "execution_count": 33
        }
      ]
    },
    {
      "cell_type": "markdown",
      "source": [
        "Data Validation"
      ],
      "metadata": {
        "id": "WgOYOrCteET9"
      },
      "id": "WgOYOrCteET9"
    },
    {
      "cell_type": "markdown",
      "id": "ae3169c3",
      "metadata": {
        "papermill": {
          "duration": 0.119848,
          "end_time": "2022-04-19T01:31:11.053441",
          "exception": false,
          "start_time": "2022-04-19T01:31:10.933593",
          "status": "completed"
        },
        "tags": [],
        "id": "ae3169c3"
      },
      "source": [
        "K-Fold CV: \n",
        "\n",
        "\n",
        "*   Where, K=5\n",
        "\n",
        "\n",
        "\n"
      ]
    },
    {
      "cell_type": "code",
      "execution_count": null,
      "id": "f5fd6b78",
      "metadata": {
        "execution": {
          "iopub.execute_input": "2022-04-19T01:31:11.292752Z",
          "iopub.status.busy": "2022-04-19T01:31:11.292195Z",
          "iopub.status.idle": "2022-04-19T02:27:43.283089Z",
          "shell.execute_reply": "2022-04-19T02:27:43.281961Z"
        },
        "papermill": {
          "duration": 3392.112928,
          "end_time": "2022-04-19T02:27:43.285299",
          "exception": false,
          "start_time": "2022-04-19T01:31:11.172371",
          "status": "completed"
        },
        "tags": [],
        "colab": {
          "base_uri": "https://localhost:8080/"
        },
        "id": "f5fd6b78",
        "outputId": "1ecbb6ba-3f1b-463e-83e4-6282fb2c023f"
      },
      "outputs": [
        {
          "metadata": {
            "tags": null
          },
          "name": "stderr",
          "output_type": "stream",
          "text": [
            "<>:14: SyntaxWarning: \"is\" with a literal. Did you mean \"==\"?\n",
            "<>:14: SyntaxWarning: \"is\" with a literal. Did you mean \"==\"?\n",
            "<ipython-input-22-906334df0941>:14: SyntaxWarning: \"is\" with a literal. Did you mean \"==\"?\n",
            "  if i is 0:\n"
          ]
        },
        {
          "output_type": "stream",
          "name": "stdout",
          "text": [
            "67200\n",
            "Train Data Size of this Fold: 268800\n",
            "Started\n",
            "Ended\n",
            "Words in all the sentences: 5835537\n",
            "Count of words:  39935\n",
            "Started\n",
            "Ended\n",
            "Words in all the sentences: 5835537\n",
            "Count of words:  39935\n",
            "Started\n",
            "Ended\n",
            "Words in all the sentences: 5835537\n",
            "Count of words:  39935\n",
            "Fold Level: 1  Detected Accuracy Rate: 0.4972916666666667\n",
            "Train Data Size of this Fold: 268800\n",
            "Started\n",
            "Ended\n",
            "Words in all the sentences: 5835485\n",
            "Count of words:  39878\n",
            "Started\n",
            "Ended\n",
            "Words in all the sentences: 5835485\n",
            "Count of words:  39878\n",
            "Started\n",
            "Ended\n",
            "Words in all the sentences: 5835485\n",
            "Count of words:  39878\n",
            "Fold Level: 2  Detected Accuracy Rate: 0.4963690476190476\n",
            "Train Data Size of this Fold: 268800\n",
            "Started\n",
            "Ended\n",
            "Words in all the sentences: 5832847\n",
            "Count of words:  39930\n",
            "Started\n",
            "Ended\n",
            "Words in all the sentences: 5832847\n",
            "Count of words:  39930\n",
            "Started\n",
            "Ended\n",
            "Words in all the sentences: 5832847\n",
            "Count of words:  39930\n"
          ]
        }
      ],
      "source": [
        "from sklearn.metrics import classification_report as cr\n",
        "from sklearn.metrics import confusion_matrix as cm\n",
        "from sklearn.metrics import accuracy_score\n",
        "\n",
        "folds=5\n",
        "#Number of folds = 5\n",
        "\n",
        "foldsize=len(train_data)/folds\n",
        "foldsize=int(foldsize) #Finding the fold length\n",
        "print(foldsize)\n",
        "\n",
        "for i in range(folds):\n",
        "\n",
        "    if i is 0:\n",
        "        cfoldval =train_data[0:foldsize]\n",
        "        cfoldtrain_data = train_data[~train_data.isin(cfoldval)].dropna()\n",
        "        #For the first iteration we consider the set to be the first 20% of the data.\n",
        "        #Thus, we assign seperature block for the same, followed by change towards the next sets\n",
        "        print('Train Data Size of this Fold:', len(cfoldtrain_data ))\n",
        "\n",
        "    else: \n",
        "        cfoldval=train_data[foldsize * i : foldsize* (i+1)]\n",
        "        cfoldtrain_data = train_data[~train_data.isin(cfoldval )].dropna()\n",
        "        print('Train Data Size of this Fold:' ,len( cfoldtrain_data))\n",
        "\n",
        "    ctype_cnt=cfoldtrain_data[\"Freshness\"].value_counts()\n",
        "    sumctype_cnt=np.sum(ctype_cnt)\n",
        "    \n",
        "    #Now we calculate the Prior Probability, P(Class)\n",
        "    #For this we divide each class type count with the total count of all classes\n",
        "\n",
        "    prior_type=pd.DataFrame(ctype_cnt).T\n",
        "    prior_type=prior_type/sumctype_cnt\n",
        "    \n",
        "    vocdic,voc= wfreq(cfoldtrain_data)\n",
        "    wfreqdf=pd.DataFrame(voc,columns=[\"Vocabulary\"])\n",
        "    Type=ctype_cnt.index\n",
        "    j=0\n",
        "    while Type[j] in ctype_cnt.index:\n",
        "        vocdic_type,d=wfreq(cfoldtrain_data,voclist= voc)\n",
        "        voctypedf = pd.DataFrame(vocdic_type.items(),columns=[\"Vocabulary\",Type[j]])\n",
        "        wfreqdf= wfreqdf.merge(voctypedf,how=\"left\",on=\"Vocabulary\" )\n",
        "        j+=1\n",
        "        if j==len(ctype_cnt.index):\n",
        "          break\n",
        "    st = True\n",
        "    if st:\n",
        "      likelihoodprob=wfreqdf.set_index(\"Vocabulary\").fillna(0) + 1\n",
        "    else:\n",
        "      likelihoodprob =wfreqdf.set_index(\"Vocabulary\")\n",
        "    likelihoodprob = likelihoodprob.div(likelihoodprob.sum(axis=0),axis=1)\n",
        "    \n",
        "\n",
        "    foldprediction=[]\n",
        "    for s in cfoldval[\"Review\"]:\n",
        "        valwrds = [w for w in s.split() if w in voc]\n",
        "        valwrds_df =pd.DataFrame(valwrds,columns=[\"Vocabulary\"])\n",
        "        valwrds_df =valwrds_df.merge(likelihoodprob, how=\"inner\",on=\"Vocabulary\").set_index(\"Vocabulary\")\n",
        "        val_likelihoodprob =pd.DataFrame(valwrds_df.prod(axis=0),columns=[\"Probability\"])\n",
        "        val_prob =val_likelihoodprob.join(prior_type.T)\n",
        "        val_prob[\"Fin_Probability\"] = val_prob[\"Probability\"]*val_prob[\"Freshness\"]\n",
        "        foldprediction.append(val_prob[\"Fin_Probability\"].idxmax())\n",
        "    accuracy=accuracy_score(cfoldval[\"Freshness\"], foldprediction)\n",
        "    print(\"Fold Level:\",i+1,\" Detected Accuracy Rate:\",accuracy)"
      ]
    },
    {
      "cell_type": "code",
      "execution_count": null,
      "id": "3c26d15e",
      "metadata": {
        "execution": {
          "iopub.execute_input": "2022-04-19T02:28:01.848622Z",
          "iopub.status.busy": "2022-04-19T02:28:01.847621Z",
          "iopub.status.idle": "2022-04-19T02:28:01.861938Z",
          "shell.execute_reply": "2022-04-19T02:28:01.861378Z"
        },
        "papermill": {
          "duration": 9.207185,
          "end_time": "2022-04-19T02:28:01.863831",
          "exception": false,
          "start_time": "2022-04-19T02:27:52.656646",
          "status": "completed"
        },
        "tags": [],
        "colab": {
          "base_uri": "https://localhost:8080/",
          "height": 206
        },
        "id": "3c26d15e",
        "outputId": "3b0fa572-926d-4783-9a7e-3b36b24bfade"
      },
      "outputs": [
        {
          "output_type": "execute_result",
          "data": {
            "text/plain": [
              "         index Freshness                                             Review\n",
              "47379    47379    rotten   Arrive two hours late for Bekmambetov's overc...\n",
              "21093    21093     fresh   It's not one of those so-bad-it's-good or B-m...\n",
              "164150  164150     fresh   Not for everyone in fact generally disrecomme...\n",
              "10553    10553    rotten                 it will no doubt find its boosters\n",
              "460995  460995    rotten   While passable everything in Creed feels calc..."
            ],
            "text/html": [
              "\n",
              "  <div id=\"df-924acab6-f263-4dbf-916a-4e8f3004a65d\">\n",
              "    <div class=\"colab-df-container\">\n",
              "      <div>\n",
              "<style scoped>\n",
              "    .dataframe tbody tr th:only-of-type {\n",
              "        vertical-align: middle;\n",
              "    }\n",
              "\n",
              "    .dataframe tbody tr th {\n",
              "        vertical-align: top;\n",
              "    }\n",
              "\n",
              "    .dataframe thead th {\n",
              "        text-align: right;\n",
              "    }\n",
              "</style>\n",
              "<table border=\"1\" class=\"dataframe\">\n",
              "  <thead>\n",
              "    <tr style=\"text-align: right;\">\n",
              "      <th></th>\n",
              "      <th>index</th>\n",
              "      <th>Freshness</th>\n",
              "      <th>Review</th>\n",
              "    </tr>\n",
              "  </thead>\n",
              "  <tbody>\n",
              "    <tr>\n",
              "      <th>47379</th>\n",
              "      <td>47379</td>\n",
              "      <td>rotten</td>\n",
              "      <td>Arrive two hours late for Bekmambetov's overc...</td>\n",
              "    </tr>\n",
              "    <tr>\n",
              "      <th>21093</th>\n",
              "      <td>21093</td>\n",
              "      <td>fresh</td>\n",
              "      <td>It's not one of those so-bad-it's-good or B-m...</td>\n",
              "    </tr>\n",
              "    <tr>\n",
              "      <th>164150</th>\n",
              "      <td>164150</td>\n",
              "      <td>fresh</td>\n",
              "      <td>Not for everyone in fact generally disrecomme...</td>\n",
              "    </tr>\n",
              "    <tr>\n",
              "      <th>10553</th>\n",
              "      <td>10553</td>\n",
              "      <td>rotten</td>\n",
              "      <td>it will no doubt find its boosters</td>\n",
              "    </tr>\n",
              "    <tr>\n",
              "      <th>460995</th>\n",
              "      <td>460995</td>\n",
              "      <td>rotten</td>\n",
              "      <td>While passable everything in Creed feels calc...</td>\n",
              "    </tr>\n",
              "  </tbody>\n",
              "</table>\n",
              "</div>\n",
              "      <button class=\"colab-df-convert\" onclick=\"convertToInteractive('df-924acab6-f263-4dbf-916a-4e8f3004a65d')\"\n",
              "              title=\"Convert this dataframe to an interactive table.\"\n",
              "              style=\"display:none;\">\n",
              "        \n",
              "  <svg xmlns=\"http://www.w3.org/2000/svg\" height=\"24px\"viewBox=\"0 0 24 24\"\n",
              "       width=\"24px\">\n",
              "    <path d=\"M0 0h24v24H0V0z\" fill=\"none\"/>\n",
              "    <path d=\"M18.56 5.44l.94 2.06.94-2.06 2.06-.94-2.06-.94-.94-2.06-.94 2.06-2.06.94zm-11 1L8.5 8.5l.94-2.06 2.06-.94-2.06-.94L8.5 2.5l-.94 2.06-2.06.94zm10 10l.94 2.06.94-2.06 2.06-.94-2.06-.94-.94-2.06-.94 2.06-2.06.94z\"/><path d=\"M17.41 7.96l-1.37-1.37c-.4-.4-.92-.59-1.43-.59-.52 0-1.04.2-1.43.59L10.3 9.45l-7.72 7.72c-.78.78-.78 2.05 0 2.83L4 21.41c.39.39.9.59 1.41.59.51 0 1.02-.2 1.41-.59l7.78-7.78 2.81-2.81c.8-.78.8-2.07 0-2.86zM5.41 20L4 18.59l7.72-7.72 1.47 1.35L5.41 20z\"/>\n",
              "  </svg>\n",
              "      </button>\n",
              "      \n",
              "  <style>\n",
              "    .colab-df-container {\n",
              "      display:flex;\n",
              "      flex-wrap:wrap;\n",
              "      gap: 12px;\n",
              "    }\n",
              "\n",
              "    .colab-df-convert {\n",
              "      background-color: #E8F0FE;\n",
              "      border: none;\n",
              "      border-radius: 50%;\n",
              "      cursor: pointer;\n",
              "      display: none;\n",
              "      fill: #1967D2;\n",
              "      height: 32px;\n",
              "      padding: 0 0 0 0;\n",
              "      width: 32px;\n",
              "    }\n",
              "\n",
              "    .colab-df-convert:hover {\n",
              "      background-color: #E2EBFA;\n",
              "      box-shadow: 0px 1px 2px rgba(60, 64, 67, 0.3), 0px 1px 3px 1px rgba(60, 64, 67, 0.15);\n",
              "      fill: #174EA6;\n",
              "    }\n",
              "\n",
              "    [theme=dark] .colab-df-convert {\n",
              "      background-color: #3B4455;\n",
              "      fill: #D2E3FC;\n",
              "    }\n",
              "\n",
              "    [theme=dark] .colab-df-convert:hover {\n",
              "      background-color: #434B5C;\n",
              "      box-shadow: 0px 1px 3px 1px rgba(0, 0, 0, 0.15);\n",
              "      filter: drop-shadow(0px 1px 2px rgba(0, 0, 0, 0.3));\n",
              "      fill: #FFFFFF;\n",
              "    }\n",
              "  </style>\n",
              "\n",
              "      <script>\n",
              "        const buttonEl =\n",
              "          document.querySelector('#df-924acab6-f263-4dbf-916a-4e8f3004a65d button.colab-df-convert');\n",
              "        buttonEl.style.display =\n",
              "          google.colab.kernel.accessAllowed ? 'block' : 'none';\n",
              "\n",
              "        async function convertToInteractive(key) {\n",
              "          const element = document.querySelector('#df-924acab6-f263-4dbf-916a-4e8f3004a65d');\n",
              "          const dataTable =\n",
              "            await google.colab.kernel.invokeFunction('convertToInteractive',\n",
              "                                                     [key], {});\n",
              "          if (!dataTable) return;\n",
              "\n",
              "          const docLinkHtml = 'Like what you see? Visit the ' +\n",
              "            '<a target=\"_blank\" href=https://colab.research.google.com/notebooks/data_table.ipynb>data table notebook</a>'\n",
              "            + ' to learn more about interactive tables.';\n",
              "          element.innerHTML = '';\n",
              "          dataTable['output_type'] = 'display_data';\n",
              "          await google.colab.output.renderOutput(dataTable, element);\n",
              "          const docLink = document.createElement('div');\n",
              "          docLink.innerHTML = docLinkHtml;\n",
              "          element.appendChild(docLink);\n",
              "        }\n",
              "      </script>\n",
              "    </div>\n",
              "  </div>\n",
              "  "
            ]
          },
          "metadata": {},
          "execution_count": 23
        }
      ],
      "source": [
        "valid.head()"
      ]
    },
    {
      "cell_type": "code",
      "execution_count": null,
      "id": "207b1309",
      "metadata": {
        "execution": {
          "iopub.execute_input": "2022-04-19T02:28:20.222871Z",
          "iopub.status.busy": "2022-04-19T02:28:20.222475Z",
          "iopub.status.idle": "2022-04-19T02:38:17.683163Z",
          "shell.execute_reply": "2022-04-19T02:38:17.682496Z"
        },
        "papermill": {
          "duration": 606.672432,
          "end_time": "2022-04-19T02:38:17.687428",
          "exception": false,
          "start_time": "2022-04-19T02:28:11.014996",
          "status": "completed"
        },
        "tags": [],
        "id": "207b1309",
        "colab": {
          "base_uri": "https://localhost:8080/"
        },
        "outputId": "1dbaa94f-77c1-4cca-da61-ddb2b3043477"
      },
      "outputs": [
        {
          "output_type": "stream",
          "name": "stdout",
          "text": [
            "Generated Accuracy for Valid Data:  0.5016666666666667\n"
          ]
        }
      ],
      "source": [
        "validprediction = []\n",
        "\n",
        "for s in valid[\"Review\"]:\n",
        "        valwrds = [w for w in s.split() if w in voc]\n",
        "        valwrds_df =pd.DataFrame(valwrds,columns=[\"Vocabulary\"])\n",
        "        valwrds_df =valwrds_df.merge(likelihoodprob, how=\"inner\",on=\"Vocabulary\").set_index(\"Vocabulary\")\n",
        "        val_likelihoodprob =pd.DataFrame(valwrds_df.prod(axis=0),columns=[\"Probability\"])\n",
        "        val_prob =val_likelihoodprob.join(prior_type.transpose())\n",
        "        val_prob[\"Fin_Probability\"] = val_prob[\"Probability\"]*val_prob[\"Freshness\"]\n",
        "        validprediction.append(val_prob[\"Fin_Probability\"].idxmax())\n",
        "\n",
        "\n",
        "print('Generated Accuracy for Valid Data: ',accuracy_score(valid[\"Freshness\"], validprediction))"
      ]
    },
    {
      "cell_type": "code",
      "source": [
        "print(cr(validprediction, valid[\"Freshness\"]))"
      ],
      "metadata": {
        "colab": {
          "base_uri": "https://localhost:8080/"
        },
        "id": "aL_WZk4HRoDU",
        "outputId": "bdac7a2e-5131-4574-8ca9-c539b44cc80e"
      },
      "id": "aL_WZk4HRoDU",
      "execution_count": null,
      "outputs": [
        {
          "output_type": "stream",
          "name": "stderr",
          "text": [
            "/usr/local/lib/python3.9/dist-packages/sklearn/metrics/_classification.py:1344: UndefinedMetricWarning: Recall and F-score are ill-defined and being set to 0.0 in labels with no true samples. Use `zero_division` parameter to control this behavior.\n",
            "  _warn_prf(average, modifier, msg_start, len(result))\n",
            "/usr/local/lib/python3.9/dist-packages/sklearn/metrics/_classification.py:1344: UndefinedMetricWarning: Recall and F-score are ill-defined and being set to 0.0 in labels with no true samples. Use `zero_division` parameter to control this behavior.\n",
            "  _warn_prf(average, modifier, msg_start, len(result))\n"
          ]
        },
        {
          "output_type": "stream",
          "name": "stdout",
          "text": [
            "              precision    recall  f1-score   support\n",
            "\n",
            "       fresh       1.00      0.50      0.67     72000\n",
            "      rotten       0.00      0.00      0.00         0\n",
            "\n",
            "    accuracy                           0.50     72000\n",
            "   macro avg       0.50      0.25      0.33     72000\n",
            "weighted avg       1.00      0.50      0.67     72000\n",
            "\n"
          ]
        },
        {
          "output_type": "stream",
          "name": "stderr",
          "text": [
            "/usr/local/lib/python3.9/dist-packages/sklearn/metrics/_classification.py:1344: UndefinedMetricWarning: Recall and F-score are ill-defined and being set to 0.0 in labels with no true samples. Use `zero_division` parameter to control this behavior.\n",
            "  _warn_prf(average, modifier, msg_start, len(result))\n"
          ]
        }
      ]
    },
    {
      "cell_type": "code",
      "source": [
        "cm(validprediction, valid[\"Freshness\"])"
      ],
      "metadata": {
        "colab": {
          "base_uri": "https://localhost:8080/"
        },
        "id": "NPS4WE-KRqX4",
        "outputId": "6b4b8ddc-04a3-4011-f5c8-1f8e8bfa6f69"
      },
      "id": "NPS4WE-KRqX4",
      "execution_count": null,
      "outputs": [
        {
          "output_type": "execute_result",
          "data": {
            "text/plain": [
              "array([[36120, 35880],\n",
              "       [    0,     0]])"
            ]
          },
          "metadata": {},
          "execution_count": 26
        }
      ]
    },
    {
      "cell_type": "code",
      "execution_count": null,
      "id": "ce021ad0",
      "metadata": {
        "execution": {
          "iopub.execute_input": "2022-04-19T02:39:26.320843Z",
          "iopub.status.busy": "2022-04-19T02:39:26.320037Z",
          "iopub.status.idle": "2022-04-19T02:39:27.700850Z",
          "shell.execute_reply": "2022-04-19T02:39:27.699890Z"
        },
        "papermill": {
          "duration": 12.635682,
          "end_time": "2022-04-19T02:39:27.703568",
          "exception": false,
          "start_time": "2022-04-19T02:39:15.067886",
          "status": "completed"
        },
        "tags": [],
        "colab": {
          "base_uri": "https://localhost:8080/",
          "height": 540
        },
        "id": "ce021ad0",
        "outputId": "db133060-56a7-4e6a-8f52-4a17d570a945"
      },
      "outputs": [
        {
          "output_type": "execute_result",
          "data": {
            "text/plain": [
              "[]"
            ]
          },
          "metadata": {},
          "execution_count": 27
        },
        {
          "output_type": "display_data",
          "data": {
            "text/plain": [
              "<Figure size 800x600 with 2 Axes>"
            ],
            "image/png": "[encoded data removed]"
          },
          "metadata": {}
        }
      ],
      "source": [
        "conf_matrix =cm(validprediction, valid[\"Freshness\"], labels=ctype_cnt.index)\n",
        "\n",
        "import seaborn\n",
        "\n",
        "plt.figure(figsize = (8,6))\n",
        "seaborn.heatmap(pd.DataFrame(conf_matrix,columns=ctype_cnt.index,index=ctype_cnt.index),cmap=\"viridis\").plot()"
      ]
    },
    {
      "cell_type": "code",
      "source": [],
      "metadata": {
        "id": "NLFPSK4Kad_5"
      },
      "id": "NLFPSK4Kad_5",
      "execution_count": null,
      "outputs": []
    },
    {
      "cell_type": "markdown",
      "id": "9352b8cb",
      "metadata": {
        "papermill": {
          "duration": 11.252603,
          "end_time": "2022-04-19T02:40:36.577013",
          "exception": false,
          "start_time": "2022-04-19T02:40:25.324410",
          "status": "completed"
        },
        "tags": [],
        "id": "9352b8cb"
      },
      "source": [
        "##Evaluating the accuracy for the test data split"
      ]
    },
    {
      "cell_type": "code",
      "execution_count": null,
      "id": "9f6e0840",
      "metadata": {
        "execution": {
          "iopub.execute_input": "2022-04-19T02:40:58.829175Z",
          "iopub.status.busy": "2022-04-19T02:40:58.828840Z",
          "iopub.status.idle": "2022-04-19T02:51:02.008993Z",
          "shell.execute_reply": "2022-04-19T02:51:02.007997Z"
        },
        "papermill": {
          "duration": 614.41631,
          "end_time": "2022-04-19T02:51:02.012004",
          "exception": false,
          "start_time": "2022-04-19T02:40:47.595694",
          "status": "completed"
        },
        "tags": [],
        "id": "9f6e0840",
        "colab": {
          "base_uri": "https://localhost:8080/"
        },
        "outputId": "c82eb9e7-5875-476b-911a-2388d5cc5671"
      },
      "outputs": [
        {
          "output_type": "stream",
          "name": "stdout",
          "text": [
            "Generated Accuracy for Test Data:  0.4974027777777778\n"
          ]
        }
      ],
      "source": [
        "test_prediction=[]\n",
        "\n",
        "for s in test_data[\"Review\"]:\n",
        "        testwrds = [w for w in s.split() if w in voc]\n",
        "        testwrds_df =pd.DataFrame(testwrds,columns=[\"Vocabulary\"])\n",
        "        testwrds_df =testwrds_df.merge(likelihoodprob, how=\"inner\",on=\"Vocabulary\").set_index(\"Vocabulary\")\n",
        "        test_likelihoodprob =pd.DataFrame(testwrds_df.prod(axis=0),columns=[\"Probability\"])\n",
        "        test_prob =test_likelihoodprob.join(prior_type.transpose())\n",
        "        test_prob[\"Fin_Probability\"] = test_prob[\"Probability\"]*test_prob[\"Freshness\"]\n",
        "        test_prediction.append(test_prob[\"Fin_Probability\"].idxmax())\n",
        "\n",
        "print('Generated Accuracy for Test Data: ',accuracy_score(test_data[\"Freshness\"], test_prediction))"
      ]
    },
    {
      "cell_type": "markdown",
      "source": [
        "###Deriving Top 10 words that predicts each class\n",
        "\n",
        "*   P(Class|Word) -> Posterior\n",
        "\n"
      ],
      "metadata": {
        "id": "axi1jK7IxUI4"
      },
      "id": "axi1jK7IxUI4"
    },
    {
      "cell_type": "code",
      "source": [
        "for i in range(len(Type)):\\\n",
        "  likelihoodprob.iloc[:,i:i+1]=likelihoodprob.iloc[:,i:i+1]*float(prior_type.iloc[:,i:i+1].iloc[0])\n",
        "\n",
        "for i in range(len(Type)):\n",
        "  print(\"\\nThe Top 10 words that predict: {}\".format(Type[i]))\n",
        "  print(likelihoodprob.nlargest(10,Type[i]).index.tolist())"
      ],
      "metadata": {
        "colab": {
          "base_uri": "https://localhost:8080/"
        },
        "id": "U8pxiesj3T1s",
        "outputId": "1dd53348-59ad-4004-c546-72d557899049"
      },
      "id": "U8pxiesj3T1s",
      "execution_count": null,
      "outputs": [
        {
          "output_type": "stream",
          "name": "stdout",
          "text": [
            "\n",
            "The Top 10 words that predict: fresh\n",
            "['the', 'a', 'and', 'of', 'to', 'is', 'in', 'that', 'it', 'The']\n",
            "\n",
            "The Top 10 words that predict: rotten\n",
            "['the', 'a', 'and', 'of', 'to', 'is', 'in', 'that', 'it', 'The']\n"
          ]
        }
      ]
    },
    {
      "cell_type": "code",
      "source": [],
      "metadata": {
        "id": "5Gc1iAybuWxm"
      },
      "id": "5Gc1iAybuWxm",
      "execution_count": null,
      "outputs": []
    }
  ],
  "metadata": {
    "kernelspec": {
      "display_name": "Python 3",
      "language": "python",
      "name": "python3"
    },
    "language_info": {
      "codemirror_mode": {
        "name": "ipython",
        "version": 3
      },
      "file_extension": ".py",
      "mimetype": "text/x-python",
      "name": "python",
      "nbconvert_exporter": "python",
      "pygments_lexer": "ipython3",
      "version": "3.7.12"
    },
    "papermill": {
      "default_parameters": {},
      "duration": 4996.607393,
      "end_time": "2022-04-19T02:51:42.249543",
      "environment_variables": {},
      "exception": null,
      "input_path": "__notebook__.ipynb",
      "output_path": "__notebook__.ipynb",
      "parameters": {},
      "start_time": "2022-04-19T01:28:25.642150",
      "version": "2.3.4"
    },
    "colab": {
      "provenance": [],
      "machine_shape": "hm"
    },
    "accelerator": "TPU",
    "gpuClass": "standard"
  },
  "nbformat": 4,
  "nbformat_minor": 5
}